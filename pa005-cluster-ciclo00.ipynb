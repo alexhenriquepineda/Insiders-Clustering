{
 "cells": [
  {
   "cell_type": "markdown",
   "id": "bd0849b5",
   "metadata": {},
   "source": [
    "# PA005 - High Value Customer Identification (Insiders)"
   ]
  },
  {
   "cell_type": "markdown",
   "id": "37db46cb",
   "metadata": {},
   "source": [
    "# Planejanamento da solução (IoT)"
   ]
  },
  {
   "cell_type": "markdown",
   "id": "dde807c7",
   "metadata": {},
   "source": [
    "## Input - Entrada\n",
    "    "
   ]
  },
  {
   "cell_type": "markdown",
   "id": "ea9318b6",
   "metadata": {},
   "source": [
    "1. Problema do negócio\n",
    "    - Selecionar os clientes mais valiosos para integrar um programa de fidelização\n",
    "\n",
    "2. Conjunto de dados\n",
    "    - Vendas de um e-commerce online durante o período de um ano"
   ]
  },
  {
   "cell_type": "markdown",
   "id": "8c519182",
   "metadata": {},
   "source": [
    "## Output - Saída"
   ]
  },
  {
   "cell_type": "markdown",
   "id": "86599165",
   "metadata": {},
   "source": [
    "1. A indicação das pessoas que farão parte do programa de Insiders\n",
    "    - Lista: client_id | is_insider |\n",
    "                10323  | yes/1\n",
    "                32413  | no/1\n",
    "                \n",
    "                \n",
    "2. Relatório\n",
    "    1. Quem são as pessoas elegíveis para participar do programa de Insiders ?\n",
    "    2. Quantos clientes farão parte do grupo?\n",
    "    3. Quais as principais características desses clientes ?\n",
    "    4. Qual a porcentagem de contribuição do faturamento, vinda do Insiders ?\n",
    "    5. Qual a expectativa de faturamento desse grupo para os próximos meses ?\n",
    "    6. Quais as condições para uma pessoa ser elegível ao Insiders ?\n",
    "    7. Quais as condições para uma pessoa ser removida do Insiders ?\n",
    "    8. Qual a garantia que o programa Insiders é melhor que o restante da base ?\n",
    "    9. Quais ações o time de marketing pode realizar para aumentar o faturamento?"
   ]
  },
  {
   "cell_type": "markdown",
   "id": "5c9e0106",
   "metadata": {},
   "source": [
    "## Task - Tarefas"
   ]
  },
  {
   "cell_type": "markdown",
   "id": "8f707557",
   "metadata": {},
   "source": [
    "1. Quem são as pessoas elegíveis para participar do programa de Insiders ?\n",
    "    - O que é ser elegível? O que são clientes de maior \"valor\"?\n",
    "    - Faturamento: \n",
    "        - Alto ticket médio.\n",
    "        - Alto LTV (life time value).\n",
    "        - Baixa Recência.\n",
    "        - Alto basket size.\n",
    "        - Baixa probabilidade de Churn.\n",
    "        - Alta previsão de LTV\n",
    "        - Alta propensão de compra\n",
    "        \n",
    "    - Custo:\n",
    "        - Baixo taxa de devolução\n",
    "        \n",
    "    - Experiência \n",
    "        - Média alta de avaliação\n",
    "        \n",
    "        \n",
    "2. Quantos clientes farão parte do grupo?\n",
    "    - Número total de cliente\n",
    "    - % do grupo de Insiders\n",
    "    \n",
    "3. Quais as principais características desses clientes ?\n",
    "    - Escrever características do cliente:\n",
    "        Idade\n",
    "        Localização\n",
    "    - Escrever características do consumo:\n",
    "        Atributos da clusterização\n",
    "        \n",
    "4. Qual a porcentagem de contribuição do faturamento, vinda do Insiders ?\n",
    "    - Faturamento total do ano\n",
    "    - Faturamento do grupo Insiders\n",
    "    \n",
    "5. Qual a expectativa de faturamento desse grupo para os próximos meses ?\n",
    "    - LTV do grupo Insiders\n",
    "    - Análise de Cohort \n",
    "    \n",
    "6. Quais as condições para uma pessoa ser elegível ao Insiders ?\n",
    "    - Definir a periodicidade (1 mes, 3 meses)\n",
    "    - A pessoa precisa ser similar ou parecido com uma pessoa do grupo\n",
    "    \n",
    "7. Quais as condições para uma pessoa ser removida do Insiders ?\n",
    "    - Definir a periodicidade (1 mes, 3 meses)\n",
    "    - A pessoa precisa ser dessimilar ou parecido com uma pessoa do grupo\n",
    "    \n",
    "8. Qual a garantia que o programa Insiders é melhor que o restante da base ?\n",
    "    - Teste A/B\n",
    "    - Teste A/B Bayesiano\n",
    "    - Teste de hipóteses\n",
    "    \n",
    "9. Quais ações o time de marketing pode realizar para aumentar o faturamento?\n",
    "    - Desconto\n",
    "    - Preferência de compra\n",
    "    - Frente\n",
    "    - Visita a empresa"
   ]
  },
  {
   "cell_type": "code",
   "execution_count": null,
   "id": "accc4a57",
   "metadata": {},
   "outputs": [],
   "source": []
  }
 ],
 "metadata": {
  "hide_input": false,
  "kernelspec": {
   "display_name": "Python 3 (ipykernel)",
   "language": "python",
   "name": "python3"
  },
  "language_info": {
   "codemirror_mode": {
    "name": "ipython",
    "version": 3
   },
   "file_extension": ".py",
   "mimetype": "text/x-python",
   "name": "python",
   "nbconvert_exporter": "python",
   "pygments_lexer": "ipython3",
   "version": "3.8.10"
  },
  "toc": {
   "base_numbering": 1,
   "nav_menu": {},
   "number_sections": true,
   "sideBar": true,
   "skip_h1_title": false,
   "title_cell": "Table of Contents",
   "title_sidebar": "Contents",
   "toc_cell": false,
   "toc_position": {},
   "toc_section_display": true,
   "toc_window_display": false
  }
 },
 "nbformat": 4,
 "nbformat_minor": 5
}
