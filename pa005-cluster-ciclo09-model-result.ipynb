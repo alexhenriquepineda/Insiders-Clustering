{
 "cells": [
  {
   "cell_type": "markdown",
   "metadata": {
    "heading_collapsed": true
   },
   "source": [
    "# PA005 - High Value Customer Identification (Insiders)"
   ]
  },
  {
   "cell_type": "markdown",
   "metadata": {
    "heading_collapsed": true
   },
   "source": [
    "# Planejanamento da solução (IoT)"
   ]
  },
  {
   "cell_type": "markdown",
   "metadata": {
    "heading_collapsed": true,
    "hidden": true
   },
   "source": [
    "## Input - Entrada\n",
    "    "
   ]
  },
  {
   "cell_type": "markdown",
   "metadata": {
    "hidden": true
   },
   "source": [
    "1. Problema do negócio\n",
    "    - Selecionar os clientes mais valiosos para integrar um programa de fidelização\n",
    "\n",
    "2. Conjunto de dados\n",
    "    - Vendas de um e-commerce online durante o período de um ano"
   ]
  },
  {
   "cell_type": "markdown",
   "metadata": {
    "heading_collapsed": true,
    "hidden": true
   },
   "source": [
    "## Output - Saída"
   ]
  },
  {
   "cell_type": "markdown",
   "metadata": {
    "hidden": true
   },
   "source": [
    "1. A indicação das pessoas que farão parte do programa de Insiders\n",
    "    - Lista: client_id | is_insider |\n",
    "                10323  | yes/1\n",
    "                32413  | no/1\n",
    "                \n",
    "                \n",
    "2. Relatório\n",
    "    1. Quem são as pessoas elegíveis para participar do programa de Insiders ?\n",
    "    2. Quantos clientes farão parte do grupo?\n",
    "    3. Quais as principais características desses clientes ?\n",
    "    4. Qual a porcentagem de contribuição do faturamento, vinda do Insiders ?\n",
    "    5. Qual a expectativa de faturamento desse grupo para os próximos meses ?\n",
    "    6. Quais as condições para uma pessoa ser elegível ao Insiders ?\n",
    "    7. Quais as condições para uma pessoa ser removida do Insiders ?\n",
    "    8. Qual a garantia que o programa Insiders é melhor que o restante da base ?\n",
    "    9. Quais ações o time de marketing pode realizar para aumentar o faturamento?"
   ]
  },
  {
   "cell_type": "markdown",
   "metadata": {
    "heading_collapsed": true,
    "hidden": true
   },
   "source": [
    "## Task - Tarefas"
   ]
  },
  {
   "cell_type": "markdown",
   "metadata": {
    "hidden": true
   },
   "source": [
    "1. Quem são as pessoas elegíveis para participar do programa de Insiders ?\n",
    "    - O que é ser elegível? O que são clientes de maior \"valor\"?\n",
    "    - Faturamento: \n",
    "        - Alto ticket médio.\n",
    "        - Alto LTV (life time value).\n",
    "        - Baixa Recência.\n",
    "        - Alto basket size.\n",
    "        - Baixa probabilidade de Churn.\n",
    "        - Alta previsão de LTV\n",
    "        - Alta propensão de compra\n",
    "        \n",
    "    - Custo:\n",
    "        - Baixo taxa de devolução\n",
    "        \n",
    "    - Experiência \n",
    "        - Média alta de avaliação\n",
    "        \n",
    "        \n",
    "2. Quantos clientes farão parte do grupo?\n",
    "    - Número total de cliente\n",
    "    - % do grupo de Insiders\n",
    "    \n",
    "3. Quais as principais características desses clientes ?\n",
    "    - Escrever características do cliente:\n",
    "        Idade\n",
    "        Localização\n",
    "    - Escrever características do consumo:\n",
    "        Atributos da clusterização\n",
    "        \n",
    "4. Qual a porcentagem de contribuição do faturamento, vinda do Insiders ?\n",
    "    - Faturamento total do ano\n",
    "    - Faturamento do grupo Insiders\n",
    "    \n",
    "5. Qual a expectativa de faturamento desse grupo para os próximos meses ?\n",
    "    - LTV do grupo Insiders\n",
    "    - Análise de Cohort \n",
    "    \n",
    "6. Quais as condições para uma pessoa ser elegível ao Insiders ?\n",
    "    - Definir a periodicidade (1 mes, 3 meses)\n",
    "    - A pessoa precisa ser similar ou parecido com uma pessoa do grupo\n",
    "    \n",
    "7. Quais as condições para uma pessoa ser removida do Insiders ?\n",
    "    - Definir a periodicidade (1 mes, 3 meses)\n",
    "    - A pessoa precisa ser dessimilar ou parecido com uma pessoa do grupo\n",
    "    \n",
    "8. Qual a garantia que o programa Insiders é melhor que o restante da base ?\n",
    "    - Teste A/B\n",
    "    - Teste A/B Bayesiano\n",
    "    - Teste de hipóteses\n",
    "    \n",
    "9. Quais ações o time de marketing pode realizar para aumentar o faturamento?\n",
    "    - Desconto\n",
    "    - Preferência de compra\n",
    "    - Frente\n",
    "    - Visita a empresa"
   ]
  },
  {
   "cell_type": "markdown",
   "metadata": {
    "heading_collapsed": true
   },
   "source": [
    "# Imports"
   ]
  },
  {
   "cell_type": "code",
   "execution_count": 69,
   "metadata": {
    "ExecuteTime": {
     "end_time": "2021-08-03T23:32:01.441799Z",
     "start_time": "2021-08-03T23:32:01.437238Z"
    },
    "hidden": true
   },
   "outputs": [],
   "source": [
    "import numpy as np\n",
    "import pandas as pd\n",
    "import seaborn as sns\n",
    "import regex as re\n",
    "\n",
    "import umap.umap_ as umap\n",
    "\n",
    "#from pandas_profiling import ProfileReport\n",
    "\n",
    "from IPython.display import HTML\n",
    "\n",
    "from sklearn import cluster as c\n",
    "from sklearn import metrics as m\n",
    "from sklearn import preprocessing as pp\n",
    "\n",
    "#from plotly import express as px\n",
    "\n",
    "from matplotlib import pyplot as plt\n",
    "\n",
    "from yellowbrick.cluster import KElbowVisualizer, SilhouetteVisualizer"
   ]
  },
  {
   "cell_type": "markdown",
   "metadata": {
    "heading_collapsed": true
   },
   "source": [
    "# Helper Functions"
   ]
  },
  {
   "cell_type": "code",
   "execution_count": 70,
   "metadata": {
    "ExecuteTime": {
     "end_time": "2021-08-03T23:32:01.455748Z",
     "start_time": "2021-08-03T23:32:01.443370Z"
    },
    "hidden": true
   },
   "outputs": [
    {
     "name": "stdout",
     "output_type": "stream",
     "text": [
      "Populating the interactive namespace from numpy and matplotlib\n"
     ]
    },
    {
     "name": "stderr",
     "output_type": "stream",
     "text": [
      "/home/alex/.local/lib/python3.8/site-packages/IPython/core/magics/pylab.py:159: UserWarning: pylab import has clobbered these variables: ['re']\n",
      "`%matplotlib` prevents importing * from pylab and numpy\n",
      "  warn(\"pylab import has clobbered these variables: %s\"  % clobbered +\n"
     ]
    },
    {
     "data": {
      "text/html": [
       "<style>.container { width:100% !important; }</style>"
      ],
      "text/plain": [
       "<IPython.core.display.HTML object>"
      ]
     },
     "metadata": {},
     "output_type": "display_data"
    }
   ],
   "source": [
    "def jupyter_settings():\n",
    "    %matplotlib inline\n",
    "    %pylab inline\n",
    "    plt.style.use( 'bmh' )\n",
    "    plt.rcParams['figure.figsize'] = [20, 10]\n",
    "    plt.rcParams['font.size'] = 24\n",
    "    display( HTML( '<style>.container { width:100% !important; }</style>') )\n",
    "    pd.options.display.max_columns = None\n",
    "    pd.options.display.max_rows = None\n",
    "    pd.set_option( 'display.expand_frame_repr', False )\n",
    "    sns.set()\n",
    "    \n",
    "jupyter_settings()"
   ]
  },
  {
   "cell_type": "markdown",
   "metadata": {
    "heading_collapsed": true
   },
   "source": [
    "# Load dataset"
   ]
  },
  {
   "cell_type": "code",
   "execution_count": 71,
   "metadata": {
    "ExecuteTime": {
     "end_time": "2021-08-03T23:32:02.053293Z",
     "start_time": "2021-08-03T23:32:01.457724Z"
    },
    "hidden": true
   },
   "outputs": [],
   "source": [
    "df_raw = pd.read_csv('datasets/Ecommerce.csv', encoding='unicode_escape')\n",
    "\n",
    "#drop extra column\n",
    "df_raw = df_raw.drop( columns= ['Unnamed: 8'], axis = 1 )"
   ]
  },
  {
   "cell_type": "markdown",
   "metadata": {
    "heading_collapsed": true
   },
   "source": [
    "# Descrição dos dados"
   ]
  },
  {
   "cell_type": "code",
   "execution_count": 72,
   "metadata": {
    "ExecuteTime": {
     "end_time": "2021-08-03T23:32:02.085661Z",
     "start_time": "2021-08-03T23:32:02.054398Z"
    },
    "hidden": true
   },
   "outputs": [],
   "source": [
    "df1 = df_raw.copy()"
   ]
  },
  {
   "cell_type": "markdown",
   "metadata": {
    "heading_collapsed": true,
    "hidden": true
   },
   "source": [
    "## Rename Columns"
   ]
  },
  {
   "cell_type": "code",
   "execution_count": 73,
   "metadata": {
    "ExecuteTime": {
     "end_time": "2021-08-03T23:32:02.090149Z",
     "start_time": "2021-08-03T23:32:02.087423Z"
    },
    "hidden": true
   },
   "outputs": [],
   "source": [
    "cols_news = ['invoice_no', 'stock_code', 'description', 'quantity', 'invoice_date','unit_price', 'customer_id', 'country']\n",
    "df1.columns = cols_news"
   ]
  },
  {
   "cell_type": "markdown",
   "metadata": {
    "cell_style": "center",
    "heading_collapsed": true,
    "hidden": true
   },
   "source": [
    "## Data dimensions"
   ]
  },
  {
   "cell_type": "code",
   "execution_count": 74,
   "metadata": {
    "ExecuteTime": {
     "end_time": "2021-08-03T23:32:02.095445Z",
     "start_time": "2021-08-03T23:32:02.091442Z"
    },
    "cell_style": "center",
    "hidden": true
   },
   "outputs": [
    {
     "data": {
      "text/plain": [
       "(541909, 8)"
      ]
     },
     "execution_count": 74,
     "metadata": {},
     "output_type": "execute_result"
    }
   ],
   "source": [
    "df1.shape"
   ]
  },
  {
   "cell_type": "markdown",
   "metadata": {
    "cell_style": "center",
    "heading_collapsed": true,
    "hidden": true
   },
   "source": [
    "## Data types"
   ]
  },
  {
   "cell_type": "code",
   "execution_count": 75,
   "metadata": {
    "ExecuteTime": {
     "end_time": "2021-08-03T23:32:02.104312Z",
     "start_time": "2021-08-03T23:32:02.096413Z"
    },
    "cell_style": "center",
    "hidden": true
   },
   "outputs": [
    {
     "data": {
      "text/plain": [
       "invoice_no       object\n",
       "stock_code       object\n",
       "description      object\n",
       "quantity          int64\n",
       "invoice_date     object\n",
       "unit_price      float64\n",
       "customer_id     float64\n",
       "country          object\n",
       "dtype: object"
      ]
     },
     "execution_count": 75,
     "metadata": {},
     "output_type": "execute_result"
    }
   ],
   "source": [
    "df1.dtypes"
   ]
  },
  {
   "cell_type": "markdown",
   "metadata": {
    "heading_collapsed": true,
    "hidden": true
   },
   "source": [
    "## Data Check NA"
   ]
  },
  {
   "cell_type": "code",
   "execution_count": 76,
   "metadata": {
    "ExecuteTime": {
     "end_time": "2021-08-03T23:32:02.208205Z",
     "start_time": "2021-08-03T23:32:02.105353Z"
    },
    "hidden": true
   },
   "outputs": [
    {
     "data": {
      "text/plain": [
       "invoice_no           0\n",
       "stock_code           0\n",
       "description       1454\n",
       "quantity             0\n",
       "invoice_date         0\n",
       "unit_price           0\n",
       "customer_id     135080\n",
       "country              0\n",
       "dtype: int64"
      ]
     },
     "execution_count": 76,
     "metadata": {},
     "output_type": "execute_result"
    }
   ],
   "source": [
    "df1.isna().sum()"
   ]
  },
  {
   "cell_type": "markdown",
   "metadata": {
    "heading_collapsed": true,
    "hidden": true
   },
   "source": [
    "## Replace NA"
   ]
  },
  {
   "cell_type": "code",
   "execution_count": 77,
   "metadata": {
    "ExecuteTime": {
     "end_time": "2021-08-03T23:32:02.574446Z",
     "start_time": "2021-08-03T23:32:02.209537Z"
    },
    "hidden": true
   },
   "outputs": [],
   "source": [
    "df_missing = df1.loc[df1['customer_id'].isna(), :]\n",
    "df_not_missing = df1.loc[~df1['customer_id'].isna(), :]\n",
    "\n",
    "#create reference\n",
    "df_backup = pd.DataFrame(df_missing['invoice_no'].drop_duplicates())\n",
    "df_backup['customer_id'] = np.arange( 19000, 19000+len(df_backup), 1)\n",
    "\n",
    "#merge original with reference dataframe\n",
    "df1 = pd.merge( df1, df_backup, on='invoice_no', how='left')\n",
    "\n",
    "#coalesce\n",
    "df1['customer_id'] = df1['customer_id_x'].combine_first( df1['customer_id_y'] )\n",
    "\n",
    "#drop extra columns\n",
    "df1 = df1.drop( columns=['customer_id_x', 'customer_id_y'], axis=1)"
   ]
  },
  {
   "cell_type": "code",
   "execution_count": 78,
   "metadata": {
    "ExecuteTime": {
     "end_time": "2021-08-03T23:32:02.682715Z",
     "start_time": "2021-08-03T23:32:02.577458Z"
    },
    "hidden": true
   },
   "outputs": [
    {
     "data": {
      "text/plain": [
       "invoice_no         0\n",
       "stock_code         0\n",
       "description     1454\n",
       "quantity           0\n",
       "invoice_date       0\n",
       "unit_price         0\n",
       "country            0\n",
       "customer_id        0\n",
       "dtype: int64"
      ]
     },
     "execution_count": 78,
     "metadata": {},
     "output_type": "execute_result"
    }
   ],
   "source": [
    "df1.isna().sum()"
   ]
  },
  {
   "cell_type": "markdown",
   "metadata": {
    "heading_collapsed": true,
    "hidden": true
   },
   "source": [
    "## Change dtypes"
   ]
  },
  {
   "cell_type": "code",
   "execution_count": 79,
   "metadata": {
    "ExecuteTime": {
     "end_time": "2021-08-03T23:32:02.687570Z",
     "start_time": "2021-08-03T23:32:02.684006Z"
    },
    "hidden": true
   },
   "outputs": [
    {
     "data": {
      "text/plain": [
       "invoice_no       object\n",
       "stock_code       object\n",
       "description      object\n",
       "quantity          int64\n",
       "invoice_date     object\n",
       "unit_price      float64\n",
       "country          object\n",
       "customer_id     float64\n",
       "dtype: object"
      ]
     },
     "execution_count": 79,
     "metadata": {},
     "output_type": "execute_result"
    }
   ],
   "source": [
    "df1.dtypes"
   ]
  },
  {
   "cell_type": "code",
   "execution_count": 80,
   "metadata": {
    "ExecuteTime": {
     "end_time": "2021-08-03T23:32:02.775052Z",
     "start_time": "2021-08-03T23:32:02.688787Z"
    },
    "hidden": true
   },
   "outputs": [],
   "source": [
    "#invoice_date\n",
    "df1['invoice_date'] =pd.to_datetime(df1['invoice_date'], format = '%d-%b-%y')\n",
    "\n",
    "#customer_id\n",
    "df1['customer_id'] = df1['customer_id'].astype(np.int64)"
   ]
  },
  {
   "cell_type": "code",
   "execution_count": 81,
   "metadata": {
    "ExecuteTime": {
     "end_time": "2021-08-03T23:32:02.781245Z",
     "start_time": "2021-08-03T23:32:02.776224Z"
    },
    "hidden": true
   },
   "outputs": [
    {
     "data": {
      "text/plain": [
       "invoice_no              object\n",
       "stock_code              object\n",
       "description             object\n",
       "quantity                 int64\n",
       "invoice_date    datetime64[ns]\n",
       "unit_price             float64\n",
       "country                 object\n",
       "customer_id              int64\n",
       "dtype: object"
      ]
     },
     "execution_count": 81,
     "metadata": {},
     "output_type": "execute_result"
    }
   ],
   "source": [
    "df1.dtypes"
   ]
  },
  {
   "cell_type": "markdown",
   "metadata": {
    "heading_collapsed": true,
    "hidden": true
   },
   "source": [
    "## Descriptive Statistics"
   ]
  },
  {
   "cell_type": "code",
   "execution_count": 82,
   "metadata": {
    "ExecuteTime": {
     "end_time": "2021-08-03T23:32:02.829129Z",
     "start_time": "2021-08-03T23:32:02.782248Z"
    },
    "hidden": true
   },
   "outputs": [],
   "source": [
    "num_attributes = df1.select_dtypes( include=['int64', 'float64'])\n",
    "cat_attributes = df1.select_dtypes( exclude=['int64', 'float64', 'datetime64[ns]'])"
   ]
  },
  {
   "cell_type": "markdown",
   "metadata": {
    "hidden": true
   },
   "source": [
    "### Numerical Attributs"
   ]
  },
  {
   "cell_type": "code",
   "execution_count": 83,
   "metadata": {
    "ExecuteTime": {
     "end_time": "2021-08-03T23:32:03.159560Z",
     "start_time": "2021-08-03T23:32:02.831357Z"
    },
    "hidden": true
   },
   "outputs": [
    {
     "data": {
      "text/html": [
       "<div>\n",
       "<style scoped>\n",
       "    .dataframe tbody tr th:only-of-type {\n",
       "        vertical-align: middle;\n",
       "    }\n",
       "\n",
       "    .dataframe tbody tr th {\n",
       "        vertical-align: top;\n",
       "    }\n",
       "\n",
       "    .dataframe thead th {\n",
       "        text-align: right;\n",
       "    }\n",
       "</style>\n",
       "<table border=\"1\" class=\"dataframe\">\n",
       "  <thead>\n",
       "    <tr style=\"text-align: right;\">\n",
       "      <th></th>\n",
       "      <th>attributes</th>\n",
       "      <th>min</th>\n",
       "      <th>max</th>\n",
       "      <th>range</th>\n",
       "      <th>mean</th>\n",
       "      <th>median</th>\n",
       "      <th>std</th>\n",
       "      <th>skew</th>\n",
       "      <th>kurtosis</th>\n",
       "    </tr>\n",
       "  </thead>\n",
       "  <tbody>\n",
       "    <tr>\n",
       "      <th>0</th>\n",
       "      <td>quantity</td>\n",
       "      <td>-80995.00</td>\n",
       "      <td>80995.0</td>\n",
       "      <td>161990.00</td>\n",
       "      <td>9.552250</td>\n",
       "      <td>3.00</td>\n",
       "      <td>218.080957</td>\n",
       "      <td>-0.264076</td>\n",
       "      <td>119769.160031</td>\n",
       "    </tr>\n",
       "    <tr>\n",
       "      <th>1</th>\n",
       "      <td>unit_price</td>\n",
       "      <td>-11062.06</td>\n",
       "      <td>38970.0</td>\n",
       "      <td>50032.06</td>\n",
       "      <td>4.611114</td>\n",
       "      <td>2.08</td>\n",
       "      <td>96.759764</td>\n",
       "      <td>186.506972</td>\n",
       "      <td>59005.719097</td>\n",
       "    </tr>\n",
       "    <tr>\n",
       "      <th>2</th>\n",
       "      <td>customer_id</td>\n",
       "      <td>12346.00</td>\n",
       "      <td>22709.0</td>\n",
       "      <td>10363.00</td>\n",
       "      <td>16688.840453</td>\n",
       "      <td>16249.00</td>\n",
       "      <td>2911.408666</td>\n",
       "      <td>0.487449</td>\n",
       "      <td>-0.804287</td>\n",
       "    </tr>\n",
       "  </tbody>\n",
       "</table>\n",
       "</div>"
      ],
      "text/plain": [
       "    attributes       min      max      range          mean    median          std        skew       kurtosis\n",
       "0     quantity -80995.00  80995.0  161990.00      9.552250      3.00   218.080957   -0.264076  119769.160031\n",
       "1   unit_price -11062.06  38970.0   50032.06      4.611114      2.08    96.759764  186.506972   59005.719097\n",
       "2  customer_id  12346.00  22709.0   10363.00  16688.840453  16249.00  2911.408666    0.487449      -0.804287"
      ]
     },
     "execution_count": 83,
     "metadata": {},
     "output_type": "execute_result"
    }
   ],
   "source": [
    "#Central Tendecy - média e mediana\n",
    "ct1 = pd.DataFrame( num_attributes.apply( np.mean ) ).T\n",
    "ct2 = pd.DataFrame( num_attributes.apply( np.median ) ).T\n",
    "\n",
    "#Dispersion - desvio, min, max, range, skew, kurtosis\n",
    "d1 = pd.DataFrame( num_attributes.apply( np.std ) ).T\n",
    "d2 = pd.DataFrame( num_attributes.apply( min ) ).T\n",
    "d3 = pd.DataFrame( num_attributes.apply( max ) ).T\n",
    "d4 = pd.DataFrame( num_attributes.apply( lambda x: x.max() - x.min() ) ).T\n",
    "d5 = pd.DataFrame( num_attributes.apply( lambda x: x.skew() ) ).T\n",
    "d6 = pd.DataFrame( num_attributes.apply( lambda x: x.kurtosis() ) ).T\n",
    "\n",
    "#concat\n",
    "m = pd.concat( [d2, d3, d4, ct1, ct2, d1, d5, d6]).T.reset_index()\n",
    "m.columns = ['attributes', 'min','max','range','mean','median','std','skew','kurtosis']\n",
    "m"
   ]
  },
  {
   "cell_type": "markdown",
   "metadata": {
    "hidden": true
   },
   "source": [
    "**Skew:** mostra a deformação da sua distribuição em relação a normal\n",
    "\n",
    "    **Skew positiva:** deformação para a esquerda\n",
    "    \n",
    "    **Skew negativa:** deformação para a direita\n",
    "    \n",
    "**Kurtosis:** mostra o quão os dados estão concentrados.\n",
    "\n",
    "    Quanto maior a kurtosis mais dados concentrados, ou seja o pico da curva será muito grande\n",
    "    \n",
    "    Quanto menor a kurtosis,mais dispersos estão os dados, ou seja, o pico da curva será menor"
   ]
  },
  {
   "cell_type": "markdown",
   "metadata": {
    "hidden": true
   },
   "source": [
    "#### Numerical Attributs - Investigating"
   ]
  },
  {
   "cell_type": "markdown",
   "metadata": {
    "hidden": true
   },
   "source": [
    "1. quantidade negativa (pode ser devolução)\n",
    "2. preço unitário igual a zero (pode ser promoção?)\n"
   ]
  },
  {
   "cell_type": "markdown",
   "metadata": {
    "hidden": true
   },
   "source": [
    "### Categorical Attributs"
   ]
  },
  {
   "cell_type": "markdown",
   "metadata": {
    "hidden": true
   },
   "source": [
    "#### Invoice No"
   ]
  },
  {
   "cell_type": "code",
   "execution_count": 84,
   "metadata": {
    "ExecuteTime": {
     "end_time": "2021-08-03T23:32:03.537615Z",
     "start_time": "2021-08-03T23:32:03.161436Z"
    },
    "hidden": true
   },
   "outputs": [
    {
     "name": "stdout",
     "output_type": "stream",
     "text": [
      "Total number of invoices: 9291\n",
      "Total de número negativos no quantity: 9288\n"
     ]
    }
   ],
   "source": [
    "#problema: temos letras no meio dos números\n",
    "\n",
    "df_letter_invoice = df1.loc[df1['invoice_no'].apply(lambda x: bool(re.search('[^0-9]', x))), :]\n",
    "\n",
    "print('Total number of invoices: {}'.format( len (df_letter_invoice)))\n",
    "print('Total de número negativos no quantity: {}'.format(len(df_letter_invoice[df_letter_invoice['quantity'] < 0])))"
   ]
  },
  {
   "cell_type": "markdown",
   "metadata": {
    "hidden": true
   },
   "source": [
    "#### Stock Code"
   ]
  },
  {
   "cell_type": "code",
   "execution_count": 85,
   "metadata": {
    "ExecuteTime": {
     "end_time": "2021-08-03T23:32:03.969145Z",
     "start_time": "2021-08-03T23:32:03.540435Z"
    },
    "hidden": true
   },
   "outputs": [
    {
     "data": {
      "text/plain": [
       "array(['POST', 'D', 'DOT', 'M', 'S', 'AMAZONFEE', 'm', 'DCGSSBOY',\n",
       "       'DCGSSGIRL', 'PADS', 'B', 'CRUK'], dtype=object)"
      ]
     },
     "execution_count": 85,
     "metadata": {},
     "output_type": "execute_result"
    }
   ],
   "source": [
    "#check stock codes only caracters\n",
    "df1.loc[df1['stock_code'].apply(lambda x: bool(re.search('^[a-zA-Z]+$', x))), 'stock_code'].unique()"
   ]
  },
  {
   "cell_type": "markdown",
   "metadata": {
    "hidden": true
   },
   "source": [
    "#### Description"
   ]
  },
  {
   "cell_type": "code",
   "execution_count": 86,
   "metadata": {
    "ExecuteTime": {
     "end_time": "2021-08-03T23:32:03.972753Z",
     "start_time": "2021-08-03T23:32:03.970451Z"
    },
    "hidden": true
   },
   "outputs": [],
   "source": [
    "#delete description"
   ]
  },
  {
   "cell_type": "markdown",
   "metadata": {
    "hidden": true
   },
   "source": [
    "#### Country"
   ]
  },
  {
   "cell_type": "code",
   "execution_count": 87,
   "metadata": {
    "ExecuteTime": {
     "end_time": "2021-08-03T23:32:04.016211Z",
     "start_time": "2021-08-03T23:32:03.974494Z"
    },
    "hidden": true
   },
   "outputs": [
    {
     "data": {
      "text/plain": [
       "United Kingdom    0.914320\n",
       "Germany           0.017521\n",
       "France            0.015790\n",
       "EIRE              0.015124\n",
       "Spain             0.004674\n",
       "Name: country, dtype: float64"
      ]
     },
     "execution_count": 87,
     "metadata": {},
     "output_type": "execute_result"
    }
   ],
   "source": [
    "df1['country'].value_counts( normalize=True).head()"
   ]
  },
  {
   "cell_type": "code",
   "execution_count": 88,
   "metadata": {
    "ExecuteTime": {
     "end_time": "2021-08-03T23:32:04.088507Z",
     "start_time": "2021-08-03T23:32:04.017906Z"
    },
    "hidden": true
   },
   "outputs": [
    {
     "data": {
      "text/html": [
       "<div>\n",
       "<style scoped>\n",
       "    .dataframe tbody tr th:only-of-type {\n",
       "        vertical-align: middle;\n",
       "    }\n",
       "\n",
       "    .dataframe tbody tr th {\n",
       "        vertical-align: top;\n",
       "    }\n",
       "\n",
       "    .dataframe thead th {\n",
       "        text-align: right;\n",
       "    }\n",
       "</style>\n",
       "<table border=\"1\" class=\"dataframe\">\n",
       "  <thead>\n",
       "    <tr style=\"text-align: right;\">\n",
       "      <th></th>\n",
       "      <th>country</th>\n",
       "      <th>customer_id</th>\n",
       "    </tr>\n",
       "  </thead>\n",
       "  <tbody>\n",
       "    <tr>\n",
       "      <th>36</th>\n",
       "      <td>United Kingdom</td>\n",
       "      <td>7587</td>\n",
       "    </tr>\n",
       "    <tr>\n",
       "      <th>14</th>\n",
       "      <td>Germany</td>\n",
       "      <td>95</td>\n",
       "    </tr>\n",
       "    <tr>\n",
       "      <th>13</th>\n",
       "      <td>France</td>\n",
       "      <td>90</td>\n",
       "    </tr>\n",
       "    <tr>\n",
       "      <th>10</th>\n",
       "      <td>EIRE</td>\n",
       "      <td>44</td>\n",
       "    </tr>\n",
       "    <tr>\n",
       "      <th>31</th>\n",
       "      <td>Spain</td>\n",
       "      <td>31</td>\n",
       "    </tr>\n",
       "  </tbody>\n",
       "</table>\n",
       "</div>"
      ],
      "text/plain": [
       "           country  customer_id\n",
       "36  United Kingdom         7587\n",
       "14         Germany           95\n",
       "13          France           90\n",
       "10            EIRE           44\n",
       "31           Spain           31"
      ]
     },
     "execution_count": 88,
     "metadata": {},
     "output_type": "execute_result"
    }
   ],
   "source": [
    "df1[['customer_id', 'country']].drop_duplicates().groupby('country').count().reset_index().sort_values('customer_id', ascending=False).head()"
   ]
  },
  {
   "cell_type": "markdown",
   "metadata": {
    "ExecuteTime": {
     "end_time": "2021-04-19T21:29:47.425721Z",
     "start_time": "2021-04-19T21:29:47.307990Z"
    },
    "heading_collapsed": true
   },
   "source": [
    "# Filtragem de variáveis"
   ]
  },
  {
   "cell_type": "code",
   "execution_count": 89,
   "metadata": {
    "ExecuteTime": {
     "end_time": "2021-08-03T23:32:04.115648Z",
     "start_time": "2021-08-03T23:32:04.089940Z"
    },
    "hidden": true
   },
   "outputs": [],
   "source": [
    "df2 = df1.copy()"
   ]
  },
  {
   "cell_type": "code",
   "execution_count": 90,
   "metadata": {
    "ExecuteTime": {
     "end_time": "2021-08-03T23:32:04.127443Z",
     "start_time": "2021-08-03T23:32:04.117090Z"
    },
    "hidden": true
   },
   "outputs": [
    {
     "data": {
      "text/html": [
       "<div>\n",
       "<style scoped>\n",
       "    .dataframe tbody tr th:only-of-type {\n",
       "        vertical-align: middle;\n",
       "    }\n",
       "\n",
       "    .dataframe tbody tr th {\n",
       "        vertical-align: top;\n",
       "    }\n",
       "\n",
       "    .dataframe thead th {\n",
       "        text-align: right;\n",
       "    }\n",
       "</style>\n",
       "<table border=\"1\" class=\"dataframe\">\n",
       "  <thead>\n",
       "    <tr style=\"text-align: right;\">\n",
       "      <th></th>\n",
       "      <th>invoice_no</th>\n",
       "      <th>stock_code</th>\n",
       "      <th>description</th>\n",
       "      <th>quantity</th>\n",
       "      <th>invoice_date</th>\n",
       "      <th>unit_price</th>\n",
       "      <th>country</th>\n",
       "      <th>customer_id</th>\n",
       "    </tr>\n",
       "  </thead>\n",
       "  <tbody>\n",
       "    <tr>\n",
       "      <th>194354</th>\n",
       "      <td>553573</td>\n",
       "      <td>22980</td>\n",
       "      <td>PANTRY SCRUBBING BRUSH</td>\n",
       "      <td>1</td>\n",
       "      <td>2017-05-16</td>\n",
       "      <td>1.65</td>\n",
       "      <td>United Kingdom</td>\n",
       "      <td>16446</td>\n",
       "    </tr>\n",
       "    <tr>\n",
       "      <th>194355</th>\n",
       "      <td>553573</td>\n",
       "      <td>22982</td>\n",
       "      <td>PANTRY PASTRY BRUSH</td>\n",
       "      <td>1</td>\n",
       "      <td>2017-05-16</td>\n",
       "      <td>1.25</td>\n",
       "      <td>United Kingdom</td>\n",
       "      <td>16446</td>\n",
       "    </tr>\n",
       "    <tr>\n",
       "      <th>540421</th>\n",
       "      <td>581483</td>\n",
       "      <td>23843</td>\n",
       "      <td>PAPER CRAFT , LITTLE BIRDIE</td>\n",
       "      <td>80995</td>\n",
       "      <td>2017-12-07</td>\n",
       "      <td>2.08</td>\n",
       "      <td>United Kingdom</td>\n",
       "      <td>16446</td>\n",
       "    </tr>\n",
       "    <tr>\n",
       "      <th>540422</th>\n",
       "      <td>C581484</td>\n",
       "      <td>23843</td>\n",
       "      <td>PAPER CRAFT , LITTLE BIRDIE</td>\n",
       "      <td>-80995</td>\n",
       "      <td>2017-12-07</td>\n",
       "      <td>2.08</td>\n",
       "      <td>United Kingdom</td>\n",
       "      <td>16446</td>\n",
       "    </tr>\n",
       "  </tbody>\n",
       "</table>\n",
       "</div>"
      ],
      "text/plain": [
       "       invoice_no stock_code                  description  quantity invoice_date  unit_price         country  customer_id\n",
       "194354     553573      22980       PANTRY SCRUBBING BRUSH         1   2017-05-16        1.65  United Kingdom        16446\n",
       "194355     553573      22982          PANTRY PASTRY BRUSH         1   2017-05-16        1.25  United Kingdom        16446\n",
       "540421     581483      23843  PAPER CRAFT , LITTLE BIRDIE     80995   2017-12-07        2.08  United Kingdom        16446\n",
       "540422    C581484      23843  PAPER CRAFT , LITTLE BIRDIE    -80995   2017-12-07        2.08  United Kingdom        16446"
      ]
     },
     "execution_count": 90,
     "metadata": {},
     "output_type": "execute_result"
    }
   ],
   "source": [
    "df2[df2['customer_id'] == 16446]"
   ]
  },
  {
   "cell_type": "code",
   "execution_count": 91,
   "metadata": {
    "ExecuteTime": {
     "end_time": "2021-08-03T23:32:04.388666Z",
     "start_time": "2021-08-03T23:32:04.129443Z"
    },
    "hidden": true
   },
   "outputs": [],
   "source": [
    "#===== Numerical Attribuets =====\n",
    "#unit price > 0\n",
    "df2 = df2.loc[df2['unit_price'] > 0.04, :]\n",
    "\n",
    "#stock code != [POST, D, M, DOT,CRUK]\n",
    "df2 = df2[~df2['stock_code'].isin( ['POST', 'D', 'DOT', 'M', 'S', 'AMAZONFEE', 'm', 'DCGSSBOY', 'DCGSSGIRL', 'PADS', 'B', 'CRUK'])]\n",
    "\n",
    "\n",
    "#description\n",
    "df2 = df2.drop( columns='description', axis=1)\n",
    "\n",
    "#country\n",
    "df2 = df2[~df2['country'].isin(['European Community', 'Unspecified'])]\n",
    "\n",
    "#bad users\n",
    "df2 = df2[~df2['customer_id'].isin( [16446] )]\n",
    "\n",
    "#quantity\n",
    "df2_returns = df2.loc[df2['quantity'] < 0, :]\n",
    "df2_purchase = df2.loc[df2['quantity'] >= 0, :]"
   ]
  },
  {
   "cell_type": "markdown",
   "metadata": {},
   "source": [
    "# Feature Engineering"
   ]
  },
  {
   "cell_type": "code",
   "execution_count": 92,
   "metadata": {
    "ExecuteTime": {
     "end_time": "2021-08-03T23:32:04.404998Z",
     "start_time": "2021-08-03T23:32:04.390250Z"
    }
   },
   "outputs": [],
   "source": [
    "df3 = df2.copy()"
   ]
  },
  {
   "cell_type": "code",
   "execution_count": 93,
   "metadata": {
    "ExecuteTime": {
     "end_time": "2021-08-03T23:32:04.417762Z",
     "start_time": "2021-08-03T23:32:04.408260Z"
    }
   },
   "outputs": [
    {
     "data": {
      "text/html": [
       "<div>\n",
       "<style scoped>\n",
       "    .dataframe tbody tr th:only-of-type {\n",
       "        vertical-align: middle;\n",
       "    }\n",
       "\n",
       "    .dataframe tbody tr th {\n",
       "        vertical-align: top;\n",
       "    }\n",
       "\n",
       "    .dataframe thead th {\n",
       "        text-align: right;\n",
       "    }\n",
       "</style>\n",
       "<table border=\"1\" class=\"dataframe\">\n",
       "  <thead>\n",
       "    <tr style=\"text-align: right;\">\n",
       "      <th></th>\n",
       "      <th>invoice_no</th>\n",
       "      <th>stock_code</th>\n",
       "      <th>quantity</th>\n",
       "      <th>invoice_date</th>\n",
       "      <th>unit_price</th>\n",
       "      <th>country</th>\n",
       "      <th>customer_id</th>\n",
       "    </tr>\n",
       "  </thead>\n",
       "  <tbody>\n",
       "    <tr>\n",
       "      <th>0</th>\n",
       "      <td>536365</td>\n",
       "      <td>85123A</td>\n",
       "      <td>6</td>\n",
       "      <td>2016-11-29</td>\n",
       "      <td>2.55</td>\n",
       "      <td>United Kingdom</td>\n",
       "      <td>17850</td>\n",
       "    </tr>\n",
       "    <tr>\n",
       "      <th>1</th>\n",
       "      <td>536365</td>\n",
       "      <td>71053</td>\n",
       "      <td>6</td>\n",
       "      <td>2016-11-29</td>\n",
       "      <td>3.39</td>\n",
       "      <td>United Kingdom</td>\n",
       "      <td>17850</td>\n",
       "    </tr>\n",
       "    <tr>\n",
       "      <th>2</th>\n",
       "      <td>536365</td>\n",
       "      <td>84406B</td>\n",
       "      <td>8</td>\n",
       "      <td>2016-11-29</td>\n",
       "      <td>2.75</td>\n",
       "      <td>United Kingdom</td>\n",
       "      <td>17850</td>\n",
       "    </tr>\n",
       "    <tr>\n",
       "      <th>3</th>\n",
       "      <td>536365</td>\n",
       "      <td>84029G</td>\n",
       "      <td>6</td>\n",
       "      <td>2016-11-29</td>\n",
       "      <td>3.39</td>\n",
       "      <td>United Kingdom</td>\n",
       "      <td>17850</td>\n",
       "    </tr>\n",
       "    <tr>\n",
       "      <th>4</th>\n",
       "      <td>536365</td>\n",
       "      <td>84029E</td>\n",
       "      <td>6</td>\n",
       "      <td>2016-11-29</td>\n",
       "      <td>3.39</td>\n",
       "      <td>United Kingdom</td>\n",
       "      <td>17850</td>\n",
       "    </tr>\n",
       "  </tbody>\n",
       "</table>\n",
       "</div>"
      ],
      "text/plain": [
       "  invoice_no stock_code  quantity invoice_date  unit_price         country  customer_id\n",
       "0     536365     85123A         6   2016-11-29        2.55  United Kingdom        17850\n",
       "1     536365      71053         6   2016-11-29        3.39  United Kingdom        17850\n",
       "2     536365     84406B         8   2016-11-29        2.75  United Kingdom        17850\n",
       "3     536365     84029G         6   2016-11-29        3.39  United Kingdom        17850\n",
       "4     536365     84029E         6   2016-11-29        3.39  United Kingdom        17850"
      ]
     },
     "execution_count": 93,
     "metadata": {},
     "output_type": "execute_result"
    }
   ],
   "source": [
    "df3.head()"
   ]
  },
  {
   "cell_type": "markdown",
   "metadata": {},
   "source": [
    "## Feature Creation"
   ]
  },
  {
   "cell_type": "code",
   "execution_count": 94,
   "metadata": {
    "ExecuteTime": {
     "end_time": "2021-08-03T23:32:04.422287Z",
     "start_time": "2021-08-03T23:32:04.420394Z"
    }
   },
   "outputs": [],
   "source": [
    "#Ideias de variáveis a serem criadas\n",
    "    #Quantidade de compras por mês, antes do dia 15 e depois do dia 15\n",
    "    "
   ]
  },
  {
   "cell_type": "code",
   "execution_count": 95,
   "metadata": {
    "ExecuteTime": {
     "end_time": "2021-08-03T23:32:04.444545Z",
     "start_time": "2021-08-03T23:32:04.423624Z"
    }
   },
   "outputs": [],
   "source": [
    "#data reference\n",
    "df_ref = df3.drop( ['invoice_no', 'stock_code', 'quantity', 'invoice_date', 'unit_price', 'country' ], axis=1).drop_duplicates(ignore_index=True)"
   ]
  },
  {
   "cell_type": "markdown",
   "metadata": {
    "heading_collapsed": true
   },
   "source": [
    "### Gross Revenue\n",
    "Faturamento"
   ]
  },
  {
   "cell_type": "code",
   "execution_count": 96,
   "metadata": {
    "ExecuteTime": {
     "end_time": "2021-08-03T23:32:04.481361Z",
     "start_time": "2021-08-03T23:32:04.445613Z"
    },
    "hidden": true
   },
   "outputs": [
    {
     "name": "stderr",
     "output_type": "stream",
     "text": [
      "/home/alex/.local/lib/python3.8/site-packages/pandas/core/indexing.py:1667: SettingWithCopyWarning: \n",
      "A value is trying to be set on a copy of a slice from a DataFrame.\n",
      "Try using .loc[row_indexer,col_indexer] = value instead\n",
      "\n",
      "See the caveats in the documentation: https://pandas.pydata.org/pandas-docs/stable/user_guide/indexing.html#returning-a-view-versus-a-copy\n",
      "  self.obj[key] = value\n"
     ]
    }
   ],
   "source": [
    "#Gross Revenue (Faturamento)\n",
    "df2_purchase.loc[:, 'gross_revenue'] = df2_purchase.loc[:, 'quantity'] * df2_purchase.loc[:, 'unit_price']\n",
    "\n",
    "#monetary (quanto essa pessoa gastou até o momento)\n",
    "df_monetary = df2_purchase.loc[:, ['customer_id', 'gross_revenue']].groupby('customer_id').sum().reset_index()\n",
    "df_ref = pd.merge( df_ref, df_monetary, on='customer_id', how='left')"
   ]
  },
  {
   "cell_type": "markdown",
   "metadata": {
    "heading_collapsed": true
   },
   "source": [
    "### Recency Day\n",
    "Último dia que foi feita uma compra"
   ]
  },
  {
   "cell_type": "code",
   "execution_count": 97,
   "metadata": {
    "ExecuteTime": {
     "end_time": "2021-08-03T23:32:04.541228Z",
     "start_time": "2021-08-03T23:32:04.482803Z"
    },
    "hidden": true
   },
   "outputs": [
    {
     "data": {
      "text/plain": [
       "customer_id       0\n",
       "gross_revenue    91\n",
       "recency_days     91\n",
       "dtype: int64"
      ]
     },
     "execution_count": 97,
     "metadata": {},
     "output_type": "execute_result"
    }
   ],
   "source": [
    "# Recency - Last day purchase\n",
    "df_recency = df2_purchase.loc[:, ['customer_id', 'invoice_date']].groupby('customer_id').max().reset_index()\n",
    "df_recency['recency_days'] = (df2['invoice_date'].max() - df_recency['invoice_date']).dt.days\n",
    "df_recency = df_recency[['customer_id', 'recency_days']].copy()\n",
    "df_ref = pd.merge(df_ref, df_recency, on='customer_id', how='left')\n",
    "df_ref.isna().sum()"
   ]
  },
  {
   "cell_type": "markdown",
   "metadata": {
    "heading_collapsed": true
   },
   "source": [
    "### Quantity of  purchased\n",
    "Quantas compras a pessoa fez"
   ]
  },
  {
   "cell_type": "code",
   "execution_count": 98,
   "metadata": {
    "ExecuteTime": {
     "end_time": "2021-08-03T23:32:04.609034Z",
     "start_time": "2021-08-03T23:32:04.542468Z"
    },
    "hidden": true
   },
   "outputs": [
    {
     "data": {
      "text/plain": [
       "customer_id       0\n",
       "gross_revenue    91\n",
       "recency_days     91\n",
       "qtde_invoices    91\n",
       "dtype: int64"
      ]
     },
     "execution_count": 98,
     "metadata": {},
     "output_type": "execute_result"
    }
   ],
   "source": [
    "#número de produtos\n",
    "df_freq = df2_purchase.loc[:, ['customer_id', 'invoice_no']].drop_duplicates().groupby('customer_id').count().reset_index().rename( columns={'invoice_no': 'qtde_invoices'})\n",
    "df_ref = pd.merge (df_ref, df_freq, on='customer_id', how='left')\n",
    "df_ref.isna().sum()"
   ]
  },
  {
   "cell_type": "markdown",
   "metadata": {
    "heading_collapsed": true
   },
   "source": [
    "### Quantity of items purchased\n",
    "A quantidade de itens comprados"
   ]
  },
  {
   "cell_type": "code",
   "execution_count": 99,
   "metadata": {
    "ExecuteTime": {
     "end_time": "2021-08-03T23:32:04.641771Z",
     "start_time": "2021-08-03T23:32:04.610048Z"
    },
    "hidden": true,
    "scrolled": true
   },
   "outputs": [
    {
     "data": {
      "text/plain": [
       "customer_id       0\n",
       "gross_revenue    91\n",
       "recency_days     91\n",
       "qtde_invoices    91\n",
       "qtde_items       91\n",
       "dtype: int64"
      ]
     },
     "execution_count": 99,
     "metadata": {},
     "output_type": "execute_result"
    }
   ],
   "source": [
    "#número de produtos\n",
    "df_freq = df2_purchase.loc[:, ['customer_id', 'quantity']].groupby('customer_id').sum().reset_index().rename( columns={'quantity': 'qtde_items'})\n",
    "df_ref = pd.merge (df_ref, df_freq, on='customer_id', how='left')\n",
    "df_ref.isna().sum()"
   ]
  },
  {
   "cell_type": "markdown",
   "metadata": {
    "heading_collapsed": true
   },
   "source": [
    "### Quantity of products purchased"
   ]
  },
  {
   "cell_type": "code",
   "execution_count": 100,
   "metadata": {
    "ExecuteTime": {
     "end_time": "2021-08-03T23:32:04.697525Z",
     "start_time": "2021-08-03T23:32:04.642822Z"
    },
    "hidden": true
   },
   "outputs": [
    {
     "data": {
      "text/plain": [
       "customer_id       0\n",
       "gross_revenue    91\n",
       "recency_days     91\n",
       "qtde_invoices    91\n",
       "qtde_items       91\n",
       "qtde_products    91\n",
       "dtype: int64"
      ]
     },
     "execution_count": 100,
     "metadata": {},
     "output_type": "execute_result"
    }
   ],
   "source": [
    "#número de produtos\n",
    "df_freq = df2_purchase.loc[:, ['customer_id', 'stock_code']].groupby('customer_id').count().reset_index().rename( columns={'stock_code': 'qtde_products'})\n",
    "df_ref = pd.merge (df_ref, df_freq, on='customer_id', how='left')\n",
    "df_ref.isna().sum()"
   ]
  },
  {
   "cell_type": "markdown",
   "metadata": {
    "heading_collapsed": true
   },
   "source": [
    "### Average Ticket Value"
   ]
  },
  {
   "cell_type": "code",
   "execution_count": 101,
   "metadata": {
    "ExecuteTime": {
     "end_time": "2021-08-03T23:32:04.741932Z",
     "start_time": "2021-08-03T23:32:04.699754Z"
    },
    "hidden": true
   },
   "outputs": [
    {
     "data": {
      "text/plain": [
       "customer_id       0\n",
       "gross_revenue    91\n",
       "recency_days     91\n",
       "qtde_invoices    91\n",
       "qtde_items       91\n",
       "qtde_products    91\n",
       "avg_ticket       91\n",
       "dtype: int64"
      ]
     },
     "execution_count": 101,
     "metadata": {},
     "output_type": "execute_result"
    }
   ],
   "source": [
    "#avg ticket (ticket médio)\n",
    "df_avg_ticket = df2_purchase.loc[:, ['customer_id', 'gross_revenue']].groupby( 'customer_id' ).mean().reset_index().rename( columns={'gross_revenue': 'avg_ticket'})\n",
    "df_ref = pd.merge( df_ref, df_avg_ticket, on='customer_id', how='left')\n",
    "df_ref.isna().sum()"
   ]
  },
  {
   "cell_type": "markdown",
   "metadata": {},
   "source": [
    "### Average Recency Days"
   ]
  },
  {
   "cell_type": "code",
   "execution_count": 102,
   "metadata": {
    "ExecuteTime": {
     "end_time": "2021-08-03T23:32:05.436145Z",
     "start_time": "2021-08-03T23:32:04.743131Z"
    }
   },
   "outputs": [
    {
     "data": {
      "text/plain": [
       "customer_id            0\n",
       "gross_revenue         91\n",
       "recency_days          91\n",
       "qtde_invoices         91\n",
       "qtde_items            91\n",
       "qtde_products         91\n",
       "avg_ticket            91\n",
       "avg_recency_days    2816\n",
       "dtype: int64"
      ]
     },
     "execution_count": 102,
     "metadata": {},
     "output_type": "execute_result"
    }
   ],
   "source": [
    "df_aux = df2[['customer_id', 'invoice_date']].drop_duplicates().sort_values( ['customer_id', 'invoice_date'], ascending=['False', 'False'])\n",
    "df_aux['next_customer_id'] = df_aux['customer_id'].shift()\n",
    "df_aux['previous_date'] = df_aux['invoice_date'].shift()\n",
    "\n",
    "df_aux['avg_recency_days'] = df_aux.apply(lambda x: ( x['invoice_date'] - x['previous_date']).days if x['customer_id'] == x['next_customer_id'] else np.nan, axis=1)\n",
    "\n",
    "df_aux = df_aux.drop( ['invoice_date', 'next_customer_id', 'previous_date'], axis=1).dropna()\n",
    "\n",
    "#average recency\n",
    "df_avg_recency_days = df_aux.groupby( 'customer_id').mean().reset_index()\n",
    "\n",
    "#merge\n",
    "df_ref = pd.merge( df_ref, df_avg_recency_days, on='customer_id', how='left' )\n",
    "df_ref.isna().sum()"
   ]
  },
  {
   "cell_type": "markdown",
   "metadata": {
    "heading_collapsed": true
   },
   "source": [
    "### Frequency Purchase"
   ]
  },
  {
   "cell_type": "code",
   "execution_count": 103,
   "metadata": {
    "ExecuteTime": {
     "end_time": "2021-08-03T23:32:06.472178Z",
     "start_time": "2021-08-03T23:32:05.440383Z"
    },
    "hidden": true
   },
   "outputs": [
    {
     "data": {
      "text/plain": [
       "customer_id            0\n",
       "gross_revenue         91\n",
       "recency_days          91\n",
       "qtde_invoices         91\n",
       "qtde_items            91\n",
       "qtde_products         91\n",
       "avg_ticket            91\n",
       "avg_recency_days    2816\n",
       "frequency             91\n",
       "dtype: int64"
      ]
     },
     "execution_count": 103,
     "metadata": {},
     "output_type": "execute_result"
    }
   ],
   "source": [
    "df_aux = (df2_purchase[['customer_id', 'invoice_no', 'invoice_date']].drop_duplicates()\n",
    "                                                  .groupby( 'customer_id')\n",
    "                                                  .agg( max_ = ( 'invoice_date', 'max'),\n",
    "                                                        min_ = ( 'invoice_date', 'min'),\n",
    "                                                        days_ = ('invoice_date', lambda x: ((x.max() - x.min() ) .days)+1),\n",
    "                                                        buy_ = ('invoice_no', 'count') ) ).reset_index()\n",
    "\n",
    "#frequency\n",
    "df_aux['frequency'] = df_aux[['buy_', 'days_']].apply( lambda x: x['buy_'] / x['days_'] if x['days_'] != 0 else 0, axis=1 )\n",
    "\n",
    "#merge\n",
    "df_ref = pd.merge( df_ref, df_aux[['customer_id', 'frequency']], on='customer_id', how='left')\n",
    "df_ref.isna().sum()"
   ]
  },
  {
   "cell_type": "markdown",
   "metadata": {
    "heading_collapsed": true
   },
   "source": [
    "### Number of Returns"
   ]
  },
  {
   "cell_type": "code",
   "execution_count": 104,
   "metadata": {
    "ExecuteTime": {
     "end_time": "2021-08-03T23:32:06.496754Z",
     "start_time": "2021-08-03T23:32:06.473538Z"
    },
    "hidden": true
   },
   "outputs": [
    {
     "data": {
      "text/plain": [
       "customer_id            0\n",
       "gross_revenue         91\n",
       "recency_days          91\n",
       "qtde_invoices         91\n",
       "qtde_items            91\n",
       "qtde_products         91\n",
       "avg_ticket            91\n",
       "avg_recency_days    2816\n",
       "frequency             91\n",
       "qtde_returns           0\n",
       "dtype: int64"
      ]
     },
     "execution_count": 104,
     "metadata": {},
     "output_type": "execute_result"
    }
   ],
   "source": [
    "df_returns = df2_returns[['customer_id', 'quantity']].groupby( 'customer_id' ).sum().reset_index().rename( columns={ 'quantity':'qtde_returns'})\n",
    "df_returns['qtde_returns'] = df_returns['qtde_returns'] * -1\n",
    "\n",
    "df_ref = pd.merge(df_ref, df_returns, how='left', on='customer_id')\n",
    "df_ref.loc[df_ref['qtde_returns'].isna(), 'qtde_returns'] = 0\n",
    "df_ref.isna().sum()"
   ]
  },
  {
   "cell_type": "markdown",
   "metadata": {
    "heading_collapsed": true
   },
   "source": [
    "### Basket Size\n",
    "Quantidade de itens por cesta (quantity)"
   ]
  },
  {
   "cell_type": "code",
   "execution_count": 105,
   "metadata": {
    "ExecuteTime": {
     "end_time": "2021-08-03T23:32:06.604813Z",
     "start_time": "2021-08-03T23:32:06.498833Z"
    },
    "hidden": true
   },
   "outputs": [
    {
     "data": {
      "text/plain": [
       "customer_id            0\n",
       "gross_revenue         91\n",
       "recency_days          91\n",
       "qtde_invoices         91\n",
       "qtde_items            91\n",
       "qtde_products         91\n",
       "avg_ticket            91\n",
       "avg_recency_days    2816\n",
       "frequency             91\n",
       "qtde_returns           0\n",
       "avg_basket_size       91\n",
       "dtype: int64"
      ]
     },
     "execution_count": 105,
     "metadata": {},
     "output_type": "execute_result"
    }
   ],
   "source": [
    "df_aux = (df2_purchase.loc[:, ['customer_id', 'invoice_no', 'quantity']].groupby( 'customer_id' )\n",
    "                                                                          .agg( n_purchase= ('invoice_no', 'nunique'),\n",
    "                                                                                n_products=( 'quantity', 'sum') ).reset_index())\n",
    "\n",
    "#calculation\n",
    "df_aux['avg_basket_size'] = df_aux['n_products'] / df_aux['n_purchase']\n",
    "\n",
    "#merge\n",
    "df_ref = pd.merge( df_ref, df_aux[['customer_id', 'avg_basket_size']], on='customer_id', how='left' )\n",
    "df_ref.isna().sum()"
   ]
  },
  {
   "cell_type": "markdown",
   "metadata": {},
   "source": [
    "### Unique Basket Size\n",
    "Quantidade de produtos distintos por compra"
   ]
  },
  {
   "cell_type": "code",
   "execution_count": 106,
   "metadata": {
    "ExecuteTime": {
     "end_time": "2021-08-03T23:32:06.725426Z",
     "start_time": "2021-08-03T23:32:06.606047Z"
    }
   },
   "outputs": [
    {
     "data": {
      "text/plain": [
       "customer_id                  0\n",
       "gross_revenue               91\n",
       "recency_days                91\n",
       "qtde_invoices               91\n",
       "qtde_items                  91\n",
       "qtde_products               91\n",
       "avg_ticket                  91\n",
       "avg_recency_days          2816\n",
       "frequency                   91\n",
       "qtde_returns                 0\n",
       "avg_basket_size             91\n",
       "avg_unique_basket_size      91\n",
       "dtype: int64"
      ]
     },
     "execution_count": 106,
     "metadata": {},
     "output_type": "execute_result"
    }
   ],
   "source": [
    "df_aux = (df2_purchase.loc[:, ['customer_id', 'invoice_no', 'stock_code']].groupby( 'customer_id' )\n",
    "                                                                          .agg( n_purchase= ('invoice_no', 'nunique'),\n",
    "                                                                                n_products=( 'stock_code', 'count') ).reset_index())\n",
    "\n",
    "#calculation\n",
    "df_aux['avg_unique_basket_size'] = df_aux['n_products'] / df_aux['n_purchase']\n",
    "\n",
    "#merge\n",
    "df_ref = pd.merge( df_ref, df_aux[['customer_id', 'avg_unique_basket_size']], on='customer_id', how='left' )\n",
    "df_ref.isna().sum()"
   ]
  },
  {
   "cell_type": "code",
   "execution_count": 107,
   "metadata": {
    "ExecuteTime": {
     "end_time": "2021-08-03T23:32:06.741751Z",
     "start_time": "2021-08-03T23:32:06.726761Z"
    }
   },
   "outputs": [
    {
     "data": {
      "text/html": [
       "<div>\n",
       "<style scoped>\n",
       "    .dataframe tbody tr th:only-of-type {\n",
       "        vertical-align: middle;\n",
       "    }\n",
       "\n",
       "    .dataframe tbody tr th {\n",
       "        vertical-align: top;\n",
       "    }\n",
       "\n",
       "    .dataframe thead th {\n",
       "        text-align: right;\n",
       "    }\n",
       "</style>\n",
       "<table border=\"1\" class=\"dataframe\">\n",
       "  <thead>\n",
       "    <tr style=\"text-align: right;\">\n",
       "      <th></th>\n",
       "      <th>customer_id</th>\n",
       "      <th>gross_revenue</th>\n",
       "      <th>recency_days</th>\n",
       "      <th>qtde_invoices</th>\n",
       "      <th>qtde_items</th>\n",
       "      <th>qtde_products</th>\n",
       "      <th>avg_ticket</th>\n",
       "      <th>avg_recency_days</th>\n",
       "      <th>frequency</th>\n",
       "      <th>qtde_returns</th>\n",
       "      <th>avg_basket_size</th>\n",
       "      <th>avg_unique_basket_size</th>\n",
       "    </tr>\n",
       "  </thead>\n",
       "  <tbody>\n",
       "    <tr>\n",
       "      <th>0</th>\n",
       "      <td>17850</td>\n",
       "      <td>5391.21</td>\n",
       "      <td>372.0</td>\n",
       "      <td>34.0</td>\n",
       "      <td>1733.0</td>\n",
       "      <td>297.0</td>\n",
       "      <td>18.152222</td>\n",
       "      <td>35.500000</td>\n",
       "      <td>17.000000</td>\n",
       "      <td>40.0</td>\n",
       "      <td>50.970588</td>\n",
       "      <td>8.735294</td>\n",
       "    </tr>\n",
       "    <tr>\n",
       "      <th>1</th>\n",
       "      <td>13047</td>\n",
       "      <td>3232.59</td>\n",
       "      <td>56.0</td>\n",
       "      <td>9.0</td>\n",
       "      <td>1390.0</td>\n",
       "      <td>171.0</td>\n",
       "      <td>18.904035</td>\n",
       "      <td>27.250000</td>\n",
       "      <td>0.028302</td>\n",
       "      <td>35.0</td>\n",
       "      <td>154.444444</td>\n",
       "      <td>19.000000</td>\n",
       "    </tr>\n",
       "    <tr>\n",
       "      <th>2</th>\n",
       "      <td>12583</td>\n",
       "      <td>6705.38</td>\n",
       "      <td>2.0</td>\n",
       "      <td>15.0</td>\n",
       "      <td>5028.0</td>\n",
       "      <td>232.0</td>\n",
       "      <td>28.902500</td>\n",
       "      <td>23.187500</td>\n",
       "      <td>0.040323</td>\n",
       "      <td>50.0</td>\n",
       "      <td>335.200000</td>\n",
       "      <td>15.466667</td>\n",
       "    </tr>\n",
       "    <tr>\n",
       "      <th>3</th>\n",
       "      <td>13748</td>\n",
       "      <td>948.25</td>\n",
       "      <td>95.0</td>\n",
       "      <td>5.0</td>\n",
       "      <td>439.0</td>\n",
       "      <td>28.0</td>\n",
       "      <td>33.866071</td>\n",
       "      <td>92.666667</td>\n",
       "      <td>0.017921</td>\n",
       "      <td>0.0</td>\n",
       "      <td>87.800000</td>\n",
       "      <td>5.600000</td>\n",
       "    </tr>\n",
       "    <tr>\n",
       "      <th>4</th>\n",
       "      <td>15100</td>\n",
       "      <td>876.00</td>\n",
       "      <td>333.0</td>\n",
       "      <td>3.0</td>\n",
       "      <td>80.0</td>\n",
       "      <td>3.0</td>\n",
       "      <td>292.000000</td>\n",
       "      <td>8.600000</td>\n",
       "      <td>0.073171</td>\n",
       "      <td>22.0</td>\n",
       "      <td>26.666667</td>\n",
       "      <td>1.000000</td>\n",
       "    </tr>\n",
       "  </tbody>\n",
       "</table>\n",
       "</div>"
      ],
      "text/plain": [
       "   customer_id  gross_revenue  recency_days  qtde_invoices  qtde_items  qtde_products  avg_ticket  avg_recency_days  frequency  qtde_returns  avg_basket_size  avg_unique_basket_size\n",
       "0        17850        5391.21         372.0           34.0      1733.0          297.0   18.152222         35.500000  17.000000          40.0        50.970588                8.735294\n",
       "1        13047        3232.59          56.0            9.0      1390.0          171.0   18.904035         27.250000   0.028302          35.0       154.444444               19.000000\n",
       "2        12583        6705.38           2.0           15.0      5028.0          232.0   28.902500         23.187500   0.040323          50.0       335.200000               15.466667\n",
       "3        13748         948.25          95.0            5.0       439.0           28.0   33.866071         92.666667   0.017921           0.0        87.800000                5.600000\n",
       "4        15100         876.00         333.0            3.0        80.0            3.0  292.000000          8.600000   0.073171          22.0        26.666667                1.000000"
      ]
     },
     "execution_count": 107,
     "metadata": {},
     "output_type": "execute_result"
    }
   ],
   "source": [
    "df_ref.head()"
   ]
  },
  {
   "cell_type": "markdown",
   "metadata": {},
   "source": [
    "# EDA (Explory Data Analysis)"
   ]
  },
  {
   "cell_type": "code",
   "execution_count": 108,
   "metadata": {
    "ExecuteTime": {
     "end_time": "2021-08-03T23:32:06.753676Z",
     "start_time": "2021-08-03T23:32:06.743262Z"
    }
   },
   "outputs": [
    {
     "data": {
      "text/plain": [
       "customer_id               0\n",
       "gross_revenue             0\n",
       "recency_days              0\n",
       "qtde_invoices             0\n",
       "qtde_items                0\n",
       "qtde_products             0\n",
       "avg_ticket                0\n",
       "avg_recency_days          0\n",
       "frequency                 0\n",
       "qtde_returns              0\n",
       "avg_basket_size           0\n",
       "avg_unique_basket_size    0\n",
       "dtype: int64"
      ]
     },
     "execution_count": 108,
     "metadata": {},
     "output_type": "execute_result"
    }
   ],
   "source": [
    "df4 = df_ref.dropna()\n",
    "df4.isna().sum()"
   ]
  },
  {
   "cell_type": "markdown",
   "metadata": {
    "heading_collapsed": true
   },
   "source": [
    "## Univariate Analysis\n",
    "Investigar os outliers e tirar as sujeiros do datasets"
   ]
  },
  {
   "cell_type": "markdown",
   "metadata": {
    "hidden": true
   },
   "source": [
    "**Métricas a serem observadas**\n",
    "\n",
    "1. Clusters Coesos - Separados\n",
    "2. Métricas\n",
    "\n",
    "    . Min, Max, Range\n",
    "    \n",
    "    . Média e Mediana\n",
    "    \n",
    "    . Desvio Padrão e Variância\n",
    "    \n",
    "    . Coeficiente de Variação (CV )\n",
    "    \n",
    "    . Distribuição\n",
    "     "
   ]
  },
  {
   "cell_type": "code",
   "execution_count": 109,
   "metadata": {
    "ExecuteTime": {
     "end_time": "2021-08-03T23:32:06.757216Z",
     "start_time": "2021-08-03T23:32:06.755087Z"
    },
    "hidden": true,
    "scrolled": true
   },
   "outputs": [],
   "source": [
    "#profile = ProfileReport( df4 )\n",
    "#profile.to_file( 'output_v3.html' )"
   ]
  },
  {
   "cell_type": "markdown",
   "metadata": {
    "hidden": true
   },
   "source": [
    "Quanto maior o valor da kurtosis, maior a ponta do seu gráfico\n",
    "\n",
    "Skewness - direita - positiva\n",
    "         - esquerda- negativa"
   ]
  },
  {
   "cell_type": "markdown",
   "metadata": {
    "hidden": true
   },
   "source": [
    "**Notes**\n",
    "kurtosis - Quanto maior o valor, maior a ponta do seu gráfico\n",
    "\n",
    "Skewness - direita - positiva - esquerda- negativa\n",
    "\n",
    "1. Cluster Coesos - Separados\n",
    "2. Métricas\n",
    "    - min, max, range (dispersão)\n",
    "    - média e mediana\n",
    "    - desvio padrão e variância\n",
    "    - coeficiente de variação (CV)\n",
    "    - Distribuição"
   ]
  },
  {
   "cell_type": "markdown",
   "metadata": {
    "heading_collapsed": true,
    "hidden": true
   },
   "source": [
    "### Análise de outliers da variáveis"
   ]
  },
  {
   "cell_type": "markdown",
   "metadata": {
    "heading_collapsed": true,
    "hidden": true
   },
   "source": [
    "#### Gross Revenue"
   ]
  },
  {
   "cell_type": "code",
   "execution_count": 110,
   "metadata": {
    "ExecuteTime": {
     "end_time": "2021-08-03T23:32:06.762001Z",
     "start_time": "2021-08-03T23:32:06.758667Z"
    },
    "hidden": true
   },
   "outputs": [],
   "source": [
    "#os outliers presentes no gross revenue fazem sentido para o projeto de clusterização"
   ]
  },
  {
   "cell_type": "markdown",
   "metadata": {
    "heading_collapsed": true,
    "hidden": true
   },
   "source": [
    "#### Avg Ticket"
   ]
  },
  {
   "cell_type": "code",
   "execution_count": 111,
   "metadata": {
    "ExecuteTime": {
     "end_time": "2021-08-03T23:32:06.773431Z",
     "start_time": "2021-08-03T23:32:06.763152Z"
    },
    "hidden": true
   },
   "outputs": [
    {
     "data": {
      "text/html": [
       "<div>\n",
       "<style scoped>\n",
       "    .dataframe tbody tr th:only-of-type {\n",
       "        vertical-align: middle;\n",
       "    }\n",
       "\n",
       "    .dataframe tbody tr th {\n",
       "        vertical-align: top;\n",
       "    }\n",
       "\n",
       "    .dataframe thead th {\n",
       "        text-align: right;\n",
       "    }\n",
       "</style>\n",
       "<table border=\"1\" class=\"dataframe\">\n",
       "  <thead>\n",
       "    <tr style=\"text-align: right;\">\n",
       "      <th></th>\n",
       "      <th>customer_id</th>\n",
       "      <th>gross_revenue</th>\n",
       "      <th>recency_days</th>\n",
       "      <th>qtde_invoices</th>\n",
       "      <th>qtde_items</th>\n",
       "      <th>qtde_products</th>\n",
       "      <th>avg_ticket</th>\n",
       "      <th>avg_recency_days</th>\n",
       "      <th>frequency</th>\n",
       "      <th>qtde_returns</th>\n",
       "      <th>avg_basket_size</th>\n",
       "      <th>avg_unique_basket_size</th>\n",
       "    </tr>\n",
       "  </thead>\n",
       "  <tbody>\n",
       "  </tbody>\n",
       "</table>\n",
       "</div>"
      ],
      "text/plain": [
       "Empty DataFrame\n",
       "Columns: [customer_id, gross_revenue, recency_days, qtde_invoices, qtde_items, qtde_products, avg_ticket, avg_recency_days, frequency, qtde_returns, avg_basket_size, avg_unique_basket_size]\n",
       "Index: []"
      ]
     },
     "execution_count": 111,
     "metadata": {},
     "output_type": "execute_result"
    }
   ],
   "source": [
    "df4[df4['avg_ticket'] == 56157.5]"
   ]
  },
  {
   "cell_type": "code",
   "execution_count": 112,
   "metadata": {
    "ExecuteTime": {
     "end_time": "2021-08-03T23:32:06.783778Z",
     "start_time": "2021-08-03T23:32:06.775636Z"
    },
    "hidden": true
   },
   "outputs": [
    {
     "data": {
      "text/html": [
       "<div>\n",
       "<style scoped>\n",
       "    .dataframe tbody tr th:only-of-type {\n",
       "        vertical-align: middle;\n",
       "    }\n",
       "\n",
       "    .dataframe tbody tr th {\n",
       "        vertical-align: top;\n",
       "    }\n",
       "\n",
       "    .dataframe thead th {\n",
       "        text-align: right;\n",
       "    }\n",
       "</style>\n",
       "<table border=\"1\" class=\"dataframe\">\n",
       "  <thead>\n",
       "    <tr style=\"text-align: right;\">\n",
       "      <th></th>\n",
       "      <th>invoice_no</th>\n",
       "      <th>stock_code</th>\n",
       "      <th>quantity</th>\n",
       "      <th>invoice_date</th>\n",
       "      <th>unit_price</th>\n",
       "      <th>country</th>\n",
       "      <th>customer_id</th>\n",
       "    </tr>\n",
       "  </thead>\n",
       "  <tbody>\n",
       "  </tbody>\n",
       "</table>\n",
       "</div>"
      ],
      "text/plain": [
       "Empty DataFrame\n",
       "Columns: [invoice_no, stock_code, quantity, invoice_date, unit_price, country, customer_id]\n",
       "Index: []"
      ]
     },
     "execution_count": 112,
     "metadata": {},
     "output_type": "execute_result"
    }
   ],
   "source": [
    "df3[df3['customer_id'] == 16446]\n",
    "#ele comprou 81 mil itens e devolveu todos eles, vale a pena manter esse customer no dataset?\n",
    "#vamos remover esse usuario do dataset"
   ]
  },
  {
   "cell_type": "markdown",
   "metadata": {
    "heading_collapsed": true,
    "hidden": true
   },
   "source": [
    "#### Qtde items"
   ]
  },
  {
   "cell_type": "code",
   "execution_count": 113,
   "metadata": {
    "ExecuteTime": {
     "end_time": "2021-08-03T23:32:06.797635Z",
     "start_time": "2021-08-03T23:32:06.786435Z"
    },
    "hidden": true
   },
   "outputs": [
    {
     "data": {
      "text/html": [
       "<div>\n",
       "<style scoped>\n",
       "    .dataframe tbody tr th:only-of-type {\n",
       "        vertical-align: middle;\n",
       "    }\n",
       "\n",
       "    .dataframe tbody tr th {\n",
       "        vertical-align: top;\n",
       "    }\n",
       "\n",
       "    .dataframe thead th {\n",
       "        text-align: right;\n",
       "    }\n",
       "</style>\n",
       "<table border=\"1\" class=\"dataframe\">\n",
       "  <thead>\n",
       "    <tr style=\"text-align: right;\">\n",
       "      <th></th>\n",
       "      <th>customer_id</th>\n",
       "      <th>gross_revenue</th>\n",
       "      <th>recency_days</th>\n",
       "      <th>qtde_invoices</th>\n",
       "      <th>qtde_items</th>\n",
       "      <th>qtde_products</th>\n",
       "      <th>avg_ticket</th>\n",
       "      <th>avg_recency_days</th>\n",
       "      <th>frequency</th>\n",
       "      <th>qtde_returns</th>\n",
       "      <th>avg_basket_size</th>\n",
       "      <th>avg_unique_basket_size</th>\n",
       "    </tr>\n",
       "  </thead>\n",
       "  <tbody>\n",
       "    <tr>\n",
       "      <th>1017</th>\n",
       "      <td>14646</td>\n",
       "      <td>279138.02</td>\n",
       "      <td>1.0</td>\n",
       "      <td>72.0</td>\n",
       "      <td>196844.0</td>\n",
       "      <td>2060.0</td>\n",
       "      <td>135.503893</td>\n",
       "      <td>7.844444</td>\n",
       "      <td>0.20339</td>\n",
       "      <td>288.0</td>\n",
       "      <td>2733.944444</td>\n",
       "      <td>28.611111</td>\n",
       "    </tr>\n",
       "  </tbody>\n",
       "</table>\n",
       "</div>"
      ],
      "text/plain": [
       "      customer_id  gross_revenue  recency_days  qtde_invoices  qtde_items  qtde_products  avg_ticket  avg_recency_days  frequency  qtde_returns  avg_basket_size  avg_unique_basket_size\n",
       "1017        14646      279138.02           1.0           72.0    196844.0         2060.0  135.503893          7.844444    0.20339         288.0      2733.944444               28.611111"
      ]
     },
     "execution_count": 113,
     "metadata": {},
     "output_type": "execute_result"
    }
   ],
   "source": [
    "df4[df4['qtde_items'] == 196844]\n",
    "\n",
    "#é um cliente incomum, mas parece ser real"
   ]
  },
  {
   "cell_type": "markdown",
   "metadata": {
    "heading_collapsed": true,
    "hidden": true
   },
   "source": [
    "#### Frequency"
   ]
  },
  {
   "cell_type": "code",
   "execution_count": 114,
   "metadata": {
    "ExecuteTime": {
     "end_time": "2021-08-03T23:32:06.811450Z",
     "start_time": "2021-08-03T23:32:06.799809Z"
    },
    "hidden": true
   },
   "outputs": [
    {
     "data": {
      "text/html": [
       "<div>\n",
       "<style scoped>\n",
       "    .dataframe tbody tr th:only-of-type {\n",
       "        vertical-align: middle;\n",
       "    }\n",
       "\n",
       "    .dataframe tbody tr th {\n",
       "        vertical-align: top;\n",
       "    }\n",
       "\n",
       "    .dataframe thead th {\n",
       "        text-align: right;\n",
       "    }\n",
       "</style>\n",
       "<table border=\"1\" class=\"dataframe\">\n",
       "  <thead>\n",
       "    <tr style=\"text-align: right;\">\n",
       "      <th></th>\n",
       "      <th>customer_id</th>\n",
       "      <th>gross_revenue</th>\n",
       "      <th>recency_days</th>\n",
       "      <th>qtde_invoices</th>\n",
       "      <th>qtde_items</th>\n",
       "      <th>qtde_products</th>\n",
       "      <th>avg_ticket</th>\n",
       "      <th>avg_recency_days</th>\n",
       "      <th>frequency</th>\n",
       "      <th>qtde_returns</th>\n",
       "      <th>avg_basket_size</th>\n",
       "      <th>avg_unique_basket_size</th>\n",
       "    </tr>\n",
       "  </thead>\n",
       "  <tbody>\n",
       "    <tr>\n",
       "      <th>0</th>\n",
       "      <td>17850</td>\n",
       "      <td>5391.21</td>\n",
       "      <td>372.0</td>\n",
       "      <td>34.0</td>\n",
       "      <td>1733.0</td>\n",
       "      <td>297.0</td>\n",
       "      <td>18.152222</td>\n",
       "      <td>35.5</td>\n",
       "      <td>17.0</td>\n",
       "      <td>40.0</td>\n",
       "      <td>50.970588</td>\n",
       "      <td>8.735294</td>\n",
       "    </tr>\n",
       "  </tbody>\n",
       "</table>\n",
       "</div>"
      ],
      "text/plain": [
       "   customer_id  gross_revenue  recency_days  qtde_invoices  qtde_items  qtde_products  avg_ticket  avg_recency_days  frequency  qtde_returns  avg_basket_size  avg_unique_basket_size\n",
       "0        17850        5391.21         372.0           34.0      1733.0          297.0   18.152222              35.5       17.0          40.0        50.970588                8.735294"
      ]
     },
     "execution_count": 114,
     "metadata": {},
     "output_type": "execute_result"
    }
   ],
   "source": [
    "df4[df4['customer_id'] == 17850]"
   ]
  },
  {
   "cell_type": "markdown",
   "metadata": {
    "heading_collapsed": true,
    "hidden": true
   },
   "source": [
    "#### Avg basket Size"
   ]
  },
  {
   "cell_type": "code",
   "execution_count": 115,
   "metadata": {
    "ExecuteTime": {
     "end_time": "2021-08-03T23:32:06.825009Z",
     "start_time": "2021-08-03T23:32:06.813272Z"
    },
    "hidden": true
   },
   "outputs": [
    {
     "data": {
      "text/html": [
       "<div>\n",
       "<style scoped>\n",
       "    .dataframe tbody tr th:only-of-type {\n",
       "        vertical-align: middle;\n",
       "    }\n",
       "\n",
       "    .dataframe tbody tr th {\n",
       "        vertical-align: top;\n",
       "    }\n",
       "\n",
       "    .dataframe thead th {\n",
       "        text-align: right;\n",
       "    }\n",
       "</style>\n",
       "<table border=\"1\" class=\"dataframe\">\n",
       "  <thead>\n",
       "    <tr style=\"text-align: right;\">\n",
       "      <th></th>\n",
       "      <th>customer_id</th>\n",
       "      <th>gross_revenue</th>\n",
       "      <th>recency_days</th>\n",
       "      <th>qtde_invoices</th>\n",
       "      <th>qtde_items</th>\n",
       "      <th>qtde_products</th>\n",
       "      <th>avg_ticket</th>\n",
       "      <th>avg_recency_days</th>\n",
       "      <th>frequency</th>\n",
       "      <th>qtde_returns</th>\n",
       "      <th>avg_basket_size</th>\n",
       "      <th>avg_unique_basket_size</th>\n",
       "    </tr>\n",
       "  </thead>\n",
       "  <tbody>\n",
       "  </tbody>\n",
       "</table>\n",
       "</div>"
      ],
      "text/plain": [
       "Empty DataFrame\n",
       "Columns: [customer_id, gross_revenue, recency_days, qtde_invoices, qtde_items, qtde_products, avg_ticket, avg_recency_days, frequency, qtde_returns, avg_basket_size, avg_unique_basket_size]\n",
       "Index: []"
      ]
     },
     "execution_count": 115,
     "metadata": {},
     "output_type": "execute_result"
    }
   ],
   "source": [
    "df4[df4['avg_basket_size'] == 40498.5]"
   ]
  },
  {
   "cell_type": "markdown",
   "metadata": {
    "heading_collapsed": true
   },
   "source": [
    "## Bivariate Analysis\n",
    "Verificar a variabilidade das variáveis para definir a variável resposta"
   ]
  },
  {
   "cell_type": "code",
   "execution_count": 116,
   "metadata": {
    "ExecuteTime": {
     "end_time": "2021-08-03T23:32:06.828684Z",
     "start_time": "2021-08-03T23:32:06.826122Z"
    },
    "hidden": true
   },
   "outputs": [],
   "source": [
    "#sns.pairplot(df4)"
   ]
  },
  {
   "cell_type": "code",
   "execution_count": 117,
   "metadata": {
    "ExecuteTime": {
     "end_time": "2021-08-03T23:32:06.834540Z",
     "start_time": "2021-08-03T23:32:06.829917Z"
    },
    "hidden": true
   },
   "outputs": [],
   "source": [
    "#frequencia não varia, então provavelmente será removida\n",
    "#avg ticket não varia"
   ]
  },
  {
   "cell_type": "markdown",
   "metadata": {},
   "source": [
    "## Estudo do espaço"
   ]
  },
  {
   "cell_type": "code",
   "execution_count": 118,
   "metadata": {
    "ExecuteTime": {
     "end_time": "2021-08-03T23:32:06.842306Z",
     "start_time": "2021-08-03T23:32:06.836053Z"
    }
   },
   "outputs": [],
   "source": [
    "#df43 = df4.drop(columns=['customer_id'], axis=1).copy()\n",
    "cols_select = ['customer_id', 'gross_revenue', 'recency_days', 'qtde_products', 'frequency', 'qtde_returns']\n",
    "\n",
    "df43 = df4[cols_select].copy()"
   ]
  },
  {
   "cell_type": "code",
   "execution_count": 119,
   "metadata": {
    "ExecuteTime": {
     "end_time": "2021-08-03T23:32:06.847768Z",
     "start_time": "2021-08-03T23:32:06.843420Z"
    }
   },
   "outputs": [],
   "source": [
    "from sklearn import preprocessing as pp\n",
    "from sklearn import decomposition as dd"
   ]
  },
  {
   "cell_type": "code",
   "execution_count": 120,
   "metadata": {
    "ExecuteTime": {
     "end_time": "2021-08-03T23:32:06.881980Z",
     "start_time": "2021-08-03T23:32:06.849642Z"
    }
   },
   "outputs": [],
   "source": [
    "mm = pp.MinMaxScaler()\n",
    "\n",
    "df43['gross_revenue']          = mm.fit_transform( df43[['gross_revenue']])   \n",
    "df43['recency_days']           = mm.fit_transform( df43[['recency_days']])\n",
    "#df43['qtde_invoices']          = mm.fit_transform( df43[['qtde_invoices']])\n",
    "#df43['qtde_items']             = mm.fit_transform( df43[['qtde_items']])\n",
    "df43['qtde_products']          = mm.fit_transform( df43[['qtde_products']])\n",
    "#df43['avg_ticket']             = mm.fit_transform( df43[['avg_ticket']])\n",
    "#df43['avg_recency_days']       = mm.fit_transform( df43[['avg_recency_days']])\n",
    "df43['frequency']              = mm.fit_transform( df43[['frequency']])\n",
    "df43['qtde_returns']           = mm.fit_transform( df43[['qtde_returns']])\n",
    "#df43['avg_basket_size']        = mm.fit_transform( df43[['avg_basket_size']])\n",
    "#df43['avg_unique_basket_size'] = mm.fit_transform( df43[['avg_unique_basket_size']])"
   ]
  },
  {
   "cell_type": "code",
   "execution_count": 121,
   "metadata": {
    "ExecuteTime": {
     "end_time": "2021-08-03T23:32:06.892683Z",
     "start_time": "2021-08-03T23:32:06.883086Z"
    }
   },
   "outputs": [
    {
     "data": {
      "text/html": [
       "<div>\n",
       "<style scoped>\n",
       "    .dataframe tbody tr th:only-of-type {\n",
       "        vertical-align: middle;\n",
       "    }\n",
       "\n",
       "    .dataframe tbody tr th {\n",
       "        vertical-align: top;\n",
       "    }\n",
       "\n",
       "    .dataframe thead th {\n",
       "        text-align: right;\n",
       "    }\n",
       "</style>\n",
       "<table border=\"1\" class=\"dataframe\">\n",
       "  <thead>\n",
       "    <tr style=\"text-align: right;\">\n",
       "      <th></th>\n",
       "      <th>customer_id</th>\n",
       "      <th>gross_revenue</th>\n",
       "      <th>recency_days</th>\n",
       "      <th>qtde_products</th>\n",
       "      <th>frequency</th>\n",
       "      <th>qtde_returns</th>\n",
       "    </tr>\n",
       "  </thead>\n",
       "  <tbody>\n",
       "    <tr>\n",
       "      <th>0</th>\n",
       "      <td>17850</td>\n",
       "      <td>0.019292</td>\n",
       "      <td>0.997319</td>\n",
       "      <td>0.037774</td>\n",
       "      <td>1.000000</td>\n",
       "      <td>0.004438</td>\n",
       "    </tr>\n",
       "    <tr>\n",
       "      <th>1</th>\n",
       "      <td>13047</td>\n",
       "      <td>0.011559</td>\n",
       "      <td>0.150134</td>\n",
       "      <td>0.021695</td>\n",
       "      <td>0.001345</td>\n",
       "      <td>0.003883</td>\n",
       "    </tr>\n",
       "    <tr>\n",
       "      <th>2</th>\n",
       "      <td>12583</td>\n",
       "      <td>0.024000</td>\n",
       "      <td>0.005362</td>\n",
       "      <td>0.029479</td>\n",
       "      <td>0.002052</td>\n",
       "      <td>0.005547</td>\n",
       "    </tr>\n",
       "    <tr>\n",
       "      <th>3</th>\n",
       "      <td>13748</td>\n",
       "      <td>0.003375</td>\n",
       "      <td>0.254692</td>\n",
       "      <td>0.003446</td>\n",
       "      <td>0.000734</td>\n",
       "      <td>0.000000</td>\n",
       "    </tr>\n",
       "    <tr>\n",
       "      <th>4</th>\n",
       "      <td>15100</td>\n",
       "      <td>0.003116</td>\n",
       "      <td>0.892761</td>\n",
       "      <td>0.000255</td>\n",
       "      <td>0.003985</td>\n",
       "      <td>0.002441</td>\n",
       "    </tr>\n",
       "  </tbody>\n",
       "</table>\n",
       "</div>"
      ],
      "text/plain": [
       "   customer_id  gross_revenue  recency_days  qtde_products  frequency  qtde_returns\n",
       "0        17850       0.019292      0.997319       0.037774   1.000000      0.004438\n",
       "1        13047       0.011559      0.150134       0.021695   0.001345      0.003883\n",
       "2        12583       0.024000      0.005362       0.029479   0.002052      0.005547\n",
       "3        13748       0.003375      0.254692       0.003446   0.000734      0.000000\n",
       "4        15100       0.003116      0.892761       0.000255   0.003985      0.002441"
      ]
     },
     "execution_count": 121,
     "metadata": {},
     "output_type": "execute_result"
    }
   ],
   "source": [
    "df43.head()"
   ]
  },
  {
   "cell_type": "markdown",
   "metadata": {},
   "source": [
    "### PCA"
   ]
  },
  {
   "cell_type": "code",
   "execution_count": 122,
   "metadata": {
    "ExecuteTime": {
     "end_time": "2021-08-03T23:32:06.897501Z",
     "start_time": "2021-08-03T23:32:06.893885Z"
    }
   },
   "outputs": [],
   "source": [
    "X = df43.copy()"
   ]
  },
  {
   "cell_type": "code",
   "execution_count": 123,
   "metadata": {
    "ExecuteTime": {
     "end_time": "2021-08-03T23:32:07.074376Z",
     "start_time": "2021-08-03T23:32:06.899791Z"
    }
   },
   "outputs": [
    {
     "data": {
      "image/png": "[encoded data removed]",
      "text/plain": [
       "<Figure size 1440x720 with 1 Axes>"
      ]
     },
     "metadata": {},
     "output_type": "display_data"
    }
   ],
   "source": [
    "pca = dd.PCA( n_components=X.shape[1])\n",
    "principal_components = pca.fit_transform( X )\n",
    "\n",
    "#plot explained variable\n",
    "features = range( pca.n_components_ )\n",
    "\n",
    "plt.bar( features, pca.explained_variance_ratio_, color='black')\n",
    "\n",
    "#pca component\n",
    "df_pca = pd.DataFrame( principal_components )\n",
    "\n",
    "\n",
    "#Quais são os componentes principais com a maior variação de dados?"
   ]
  },
  {
   "cell_type": "code",
   "execution_count": 124,
   "metadata": {
    "ExecuteTime": {
     "end_time": "2021-08-03T23:32:07.082177Z",
     "start_time": "2021-08-03T23:32:07.075655Z"
    }
   },
   "outputs": [
    {
     "data": {
      "text/html": [
       "<div>\n",
       "<style scoped>\n",
       "    .dataframe tbody tr th:only-of-type {\n",
       "        vertical-align: middle;\n",
       "    }\n",
       "\n",
       "    .dataframe tbody tr th {\n",
       "        vertical-align: top;\n",
       "    }\n",
       "\n",
       "    .dataframe thead th {\n",
       "        text-align: right;\n",
       "    }\n",
       "</style>\n",
       "<table border=\"1\" class=\"dataframe\">\n",
       "  <thead>\n",
       "    <tr style=\"text-align: right;\">\n",
       "      <th></th>\n",
       "      <th>0</th>\n",
       "      <th>1</th>\n",
       "      <th>2</th>\n",
       "      <th>3</th>\n",
       "      <th>4</th>\n",
       "      <th>5</th>\n",
       "    </tr>\n",
       "  </thead>\n",
       "  <tbody>\n",
       "    <tr>\n",
       "      <th>0</th>\n",
       "      <td>2579.622979</td>\n",
       "      <td>0.856733</td>\n",
       "      <td>0.078571</td>\n",
       "      <td>-0.052547</td>\n",
       "      <td>-0.045383</td>\n",
       "      <td>0.960655</td>\n",
       "    </tr>\n",
       "    <tr>\n",
       "      <th>1</th>\n",
       "      <td>-2223.377022</td>\n",
       "      <td>-0.022794</td>\n",
       "      <td>0.003764</td>\n",
       "      <td>-0.003840</td>\n",
       "      <td>-0.001722</td>\n",
       "      <td>-0.004225</td>\n",
       "    </tr>\n",
       "    <tr>\n",
       "      <th>2</th>\n",
       "      <td>-2687.377022</td>\n",
       "      <td>-0.167898</td>\n",
       "      <td>0.012954</td>\n",
       "      <td>-0.004314</td>\n",
       "      <td>0.002124</td>\n",
       "      <td>0.001334</td>\n",
       "    </tr>\n",
       "    <tr>\n",
       "      <th>3</th>\n",
       "      <td>-1522.377022</td>\n",
       "      <td>0.082413</td>\n",
       "      <td>-0.010429</td>\n",
       "      <td>0.002939</td>\n",
       "      <td>0.003822</td>\n",
       "      <td>-0.007664</td>\n",
       "    </tr>\n",
       "    <tr>\n",
       "      <th>4</th>\n",
       "      <td>-170.377022</td>\n",
       "      <td>0.719939</td>\n",
       "      <td>0.009946</td>\n",
       "      <td>-0.003442</td>\n",
       "      <td>0.003301</td>\n",
       "      <td>-0.027095</td>\n",
       "    </tr>\n",
       "  </tbody>\n",
       "</table>\n",
       "</div>"
      ],
      "text/plain": [
       "             0         1         2         3         4         5\n",
       "0  2579.622979  0.856733  0.078571 -0.052547 -0.045383  0.960655\n",
       "1 -2223.377022 -0.022794  0.003764 -0.003840 -0.001722 -0.004225\n",
       "2 -2687.377022 -0.167898  0.012954 -0.004314  0.002124  0.001334\n",
       "3 -1522.377022  0.082413 -0.010429  0.002939  0.003822 -0.007664\n",
       "4  -170.377022  0.719939  0.009946 -0.003442  0.003301 -0.027095"
      ]
     },
     "execution_count": 124,
     "metadata": {},
     "output_type": "execute_result"
    }
   ],
   "source": [
    "df_pca.head()"
   ]
  },
  {
   "cell_type": "code",
   "execution_count": 125,
   "metadata": {
    "ExecuteTime": {
     "end_time": "2021-08-03T23:32:07.283704Z",
     "start_time": "2021-08-03T23:32:07.083881Z"
    }
   },
   "outputs": [
    {
     "data": {
      "text/plain": [
       "<AxesSubplot:xlabel='0', ylabel='1'>"
      ]
     },
     "execution_count": 125,
     "metadata": {},
     "output_type": "execute_result"
    },
    {
     "data": {
      "image/png": "[encoded data removed]",
      "text/plain": [
       "<Figure size 1440x720 with 1 Axes>"
      ]
     },
     "metadata": {},
     "output_type": "display_data"
    }
   ],
   "source": [
    "sns.scatterplot( x=0, y=1, data=df_pca)"
   ]
  },
  {
   "cell_type": "markdown",
   "metadata": {},
   "source": [
    "### UMAP"
   ]
  },
  {
   "cell_type": "code",
   "execution_count": 126,
   "metadata": {
    "ExecuteTime": {
     "end_time": "2021-08-03T23:32:16.900391Z",
     "start_time": "2021-08-03T23:32:07.287388Z"
    }
   },
   "outputs": [
    {
     "data": {
      "text/plain": [
       "<AxesSubplot:xlabel='embedding_x', ylabel='embedding_y'>"
      ]
     },
     "execution_count": 126,
     "metadata": {},
     "output_type": "execute_result"
    },
    {
     "data": {
      "image/png": "[encoded data removed]",
      "text/plain": [
       "<Figure size 1440x720 with 1 Axes>"
      ]
     },
     "metadata": {},
     "output_type": "display_data"
    }
   ],
   "source": [
    "reducer = umap.UMAP( random_state=42)\n",
    "embedding = reducer.fit_transform( X )\n",
    "\n",
    "#embedding\n",
    "df_pca['embedding_x'] = embedding[:, 0]\n",
    "df_pca['embedding_y'] = embedding[:, 1]\n",
    "\n",
    "#plot UMAP\n",
    "sns.scatterplot(x='embedding_x', y='embedding_y', data=df_pca)"
   ]
  },
  {
   "cell_type": "markdown",
   "metadata": {},
   "source": [
    "### t-SNE"
   ]
  },
  {
   "cell_type": "code",
   "execution_count": 127,
   "metadata": {
    "ExecuteTime": {
     "end_time": "2021-08-03T23:32:16.903577Z",
     "start_time": "2021-08-03T23:32:16.901370Z"
    }
   },
   "outputs": [],
   "source": [
    "from sklearn.manifold import TSNE"
   ]
  },
  {
   "cell_type": "code",
   "execution_count": 128,
   "metadata": {
    "ExecuteTime": {
     "end_time": "2021-08-03T23:32:25.579265Z",
     "start_time": "2021-08-03T23:32:16.904777Z"
    }
   },
   "outputs": [
    {
     "data": {
      "text/plain": [
       "<AxesSubplot:xlabel='embedding_x', ylabel='embedding_y'>"
      ]
     },
     "execution_count": 128,
     "metadata": {},
     "output_type": "execute_result"
    },
    {
     "data": {
      "image/png": "[encoded data removed]",
      "text/plain": [
       "<Figure size 1440x720 with 1 Axes>"
      ]
     },
     "metadata": {},
     "output_type": "display_data"
    }
   ],
   "source": [
    "reducer = TSNE(n_components=2, n_jobs=-1, random_state=42)\n",
    "embedding = reducer.fit_transform( X )\n",
    "\n",
    "#embedding\n",
    "df_pca['embedding_x'] = embedding[:, 0]\n",
    "df_pca['embedding_y'] = embedding[:, 1]\n",
    "\n",
    "#plot UMAP\n",
    "sns.scatterplot(x='embedding_x', y='embedding_y', data=df_pca)"
   ]
  },
  {
   "cell_type": "markdown",
   "metadata": {},
   "source": [
    "### Tree-Based Embedding"
   ]
  },
  {
   "cell_type": "code",
   "execution_count": 129,
   "metadata": {
    "ExecuteTime": {
     "end_time": "2021-08-03T23:32:37.920846Z",
     "start_time": "2021-08-03T23:32:37.916268Z"
    }
   },
   "outputs": [],
   "source": [
    "from sklearn import ensemble as en"
   ]
  },
  {
   "cell_type": "code",
   "execution_count": 130,
   "metadata": {
    "ExecuteTime": {
     "end_time": "2021-08-03T23:32:39.133163Z",
     "start_time": "2021-08-03T23:32:38.450178Z"
    }
   },
   "outputs": [
    {
     "data": {
      "text/plain": [
       "RandomForestRegressor(random_state=42)"
      ]
     },
     "execution_count": 130,
     "metadata": {},
     "output_type": "execute_result"
    }
   ],
   "source": [
    "#training\n",
    "X = df43.drop( columns=['customer_id', 'gross_revenue'], axis=1)\n",
    "y = df43['gross_revenue']\n",
    "\n",
    "#model definition\n",
    "rf_model = en.RandomForestRegressor( n_estimators=100, random_state=42)\n",
    "\n",
    "#model training\n",
    "rf_model.fit(X, y)\n",
    "\n",
    "#leaf"
   ]
  },
  {
   "cell_type": "code",
   "execution_count": 131,
   "metadata": {
    "ExecuteTime": {
     "end_time": "2021-08-03T23:32:40.534134Z",
     "start_time": "2021-08-03T23:32:40.477605Z"
    }
   },
   "outputs": [],
   "source": [
    "df_leaf = pd.DataFrame( rf_model.apply( X ) )"
   ]
  },
  {
   "cell_type": "code",
   "execution_count": 132,
   "metadata": {
    "ExecuteTime": {
     "end_time": "2021-08-03T23:32:49.352323Z",
     "start_time": "2021-08-03T23:32:41.039666Z"
    }
   },
   "outputs": [
    {
     "data": {
      "text/plain": [
       "<AxesSubplot:xlabel='embedding_x', ylabel='embedding_y'>"
      ]
     },
     "execution_count": 132,
     "metadata": {},
     "output_type": "execute_result"
    },
    {
     "data": {
      "image/png": "[encoded data removed]",
      "text/plain": [
       "<Figure size 1440x720 with 1 Axes>"
      ]
     },
     "metadata": {},
     "output_type": "display_data"
    }
   ],
   "source": [
    "reducer = umap.UMAP( random_state=42)\n",
    "embedding = reducer.fit_transform( df_leaf )\n",
    "\n",
    "#embedding\n",
    "df_tree = pd.DataFrame()\n",
    "df_tree['embedding_x'] = embedding[:, 0]\n",
    "df_tree['embedding_y'] = embedding[:, 1]\n",
    "\n",
    "#plot UMAP\n",
    "sns.scatterplot(x='embedding_x', y='embedding_y', data=df_tree)"
   ]
  },
  {
   "cell_type": "markdown",
   "metadata": {},
   "source": [
    "# Data Preparation"
   ]
  },
  {
   "cell_type": "markdown",
   "metadata": {},
   "source": [
    "1. Distribuição normal e não possuí outlier -> Standar Scaler - Média e Desvio Padrão\n",
    "2. Distribuição normal e possui outlier -> Robust Scaler - Quartis\n",
    "3. Não é uma distribuição Normal -> Min Max Scaler\n",
    "\n",
    "Padronização( Standardization ) -> os dados vierem de uma distribuição normal\n",
    "\n",
    "Rescala     ( Rescale )         -> não tem distribuição normal\n",
    "\n",
    "\n",
    "**Como saber se é uma distribuição normal?**\n",
    "\n",
    "1. QQ Plot - Quantile Quantile Plot ( Quatile teorica x Quantile real )\n",
    "2. KS Teste - Kolgomorov ( Teste de Hipótese ) Se p-value > 0.5 -> Distribuição Normal, p-value < 0.5 -> Não é distribuição normal\n"
   ]
  },
  {
   "cell_type": "code",
   "execution_count": 133,
   "metadata": {
    "ExecuteTime": {
     "end_time": "2021-08-03T23:32:49.356297Z",
     "start_time": "2021-08-03T23:32:49.353551Z"
    }
   },
   "outputs": [],
   "source": [
    "#df5 = df4.copy()\n",
    "df5 = df_tree.copy()"
   ]
  },
  {
   "cell_type": "code",
   "execution_count": 134,
   "metadata": {
    "ExecuteTime": {
     "end_time": "2021-08-03T23:32:49.361564Z",
     "start_time": "2021-08-03T23:32:49.357644Z"
    }
   },
   "outputs": [],
   "source": [
    "#mm = pp.MinMaxScaler()\n",
    "#ss = pp.StandardScaler()\n",
    "#rr = pp.RobustScaler()\n",
    "#\n",
    "#\n",
    "#df5['gross_revenue']          = mm.fit_transform( df5[['gross_revenue']])\n",
    "#df5['recency_days']           = mm.fit_transform( df5[['recency_days']])\n",
    "##df5['qtde_invoices']          = mm.fit_transform( df5[['qtde_invoices']])\n",
    "##df5['qtde_items']             = mm.fit_transform( df5[['qtde_items']])\n",
    "#df5['qtde_products']          = mm.fit_transform( df5[['qtde_products']])\n",
    "##df5['avg_ticket']             = mm.fit_transform( df5[['avg_ticket']])\n",
    "##df5['avg_recency_days']       = mm.fit_transform( df5[['avg_recency_days']])\n",
    "#df5['frequency']              = mm.fit_transform( df5[['frequency']])\n",
    "#df5['qtde_returns']           = mm.fit_transform( df5[['qtde_returns']])\n",
    "##df5['avg_basket_size']        = mm.fit_transform( df5[['avg_basket_size']])\n",
    "##df5['avg_unique_basket_size'] = mm.fit_transform( df5[['avg_unique_basket_size']])"
   ]
  },
  {
   "cell_type": "markdown",
   "metadata": {},
   "source": [
    "## Teste"
   ]
  },
  {
   "cell_type": "code",
   "execution_count": 135,
   "metadata": {
    "ExecuteTime": {
     "end_time": "2021-08-03T23:32:49.366206Z",
     "start_time": "2021-08-03T23:32:49.363044Z"
    }
   },
   "outputs": [],
   "source": [
    "#variable = 'gross_revenue'"
   ]
  },
  {
   "cell_type": "code",
   "execution_count": 136,
   "metadata": {
    "ExecuteTime": {
     "end_time": "2021-08-03T23:32:49.371956Z",
     "start_time": "2021-08-03T23:32:49.367161Z"
    },
    "cell_style": "split"
   },
   "outputs": [],
   "source": [
    "#Dados AS IS\n",
    "#print('Min:{} - Max:{}'.format( df5_aux[variable].min(), df5_aux[variable].max()))\n",
    "#sns.distplot( df5_aux[variable]);"
   ]
  },
  {
   "cell_type": "code",
   "execution_count": 137,
   "metadata": {
    "ExecuteTime": {
     "end_time": "2021-08-03T23:32:49.377186Z",
     "start_time": "2021-08-03T23:32:49.374774Z"
    },
    "cell_style": "split"
   },
   "outputs": [],
   "source": [
    "#Dados Normalizados/Rescalados\n",
    "#print('Min:{} - Max:{}'.format( df5[variable].min(), df5[variable].max()))\n",
    "#sns.distplot( df5[variable]);"
   ]
  },
  {
   "cell_type": "code",
   "execution_count": 138,
   "metadata": {
    "ExecuteTime": {
     "end_time": "2021-08-03T23:32:49.382093Z",
     "start_time": "2021-08-03T23:32:49.378333Z"
    }
   },
   "outputs": [],
   "source": [
    "#BoxPlot\n",
    "#sns.boxplot(df5_aux[variable]);"
   ]
  },
  {
   "cell_type": "markdown",
   "metadata": {},
   "source": [
    "# Feature Selection"
   ]
  },
  {
   "cell_type": "code",
   "execution_count": 139,
   "metadata": {
    "ExecuteTime": {
     "end_time": "2021-08-03T23:32:49.387798Z",
     "start_time": "2021-08-03T23:32:49.383733Z"
    }
   },
   "outputs": [],
   "source": [
    "#cols_select = ['customer_id', 'gross_revenue', 'recency_days', 'qtde_products', 'frequency', 'qtde_returns']"
   ]
  },
  {
   "cell_type": "code",
   "execution_count": 140,
   "metadata": {
    "ExecuteTime": {
     "end_time": "2021-08-03T23:32:49.393004Z",
     "start_time": "2021-08-03T23:32:49.388894Z"
    }
   },
   "outputs": [],
   "source": [
    "df6 = df5.copy()"
   ]
  },
  {
   "cell_type": "markdown",
   "metadata": {},
   "source": [
    "# Hyperparameter Fine-Tunning"
   ]
  },
  {
   "cell_type": "code",
   "execution_count": 141,
   "metadata": {
    "ExecuteTime": {
     "end_time": "2021-08-03T23:32:49.400299Z",
     "start_time": "2021-08-03T23:32:49.395680Z"
    }
   },
   "outputs": [],
   "source": [
    "#X = df6.drop(columns=['customer_id'])\n",
    "X = df6.copy()"
   ]
  },
  {
   "cell_type": "code",
   "execution_count": 142,
   "metadata": {
    "ExecuteTime": {
     "end_time": "2021-08-03T23:32:49.412552Z",
     "start_time": "2021-08-03T23:32:49.401288Z"
    },
    "scrolled": true
   },
   "outputs": [
    {
     "data": {
      "text/html": [
       "<div>\n",
       "<style scoped>\n",
       "    .dataframe tbody tr th:only-of-type {\n",
       "        vertical-align: middle;\n",
       "    }\n",
       "\n",
       "    .dataframe tbody tr th {\n",
       "        vertical-align: top;\n",
       "    }\n",
       "\n",
       "    .dataframe thead th {\n",
       "        text-align: right;\n",
       "    }\n",
       "</style>\n",
       "<table border=\"1\" class=\"dataframe\">\n",
       "  <thead>\n",
       "    <tr style=\"text-align: right;\">\n",
       "      <th></th>\n",
       "      <th>embedding_x</th>\n",
       "      <th>embedding_y</th>\n",
       "    </tr>\n",
       "  </thead>\n",
       "  <tbody>\n",
       "    <tr>\n",
       "      <th>0</th>\n",
       "      <td>11.992380</td>\n",
       "      <td>15.063401</td>\n",
       "    </tr>\n",
       "    <tr>\n",
       "      <th>1</th>\n",
       "      <td>17.543764</td>\n",
       "      <td>6.643464</td>\n",
       "    </tr>\n",
       "    <tr>\n",
       "      <th>2</th>\n",
       "      <td>12.273921</td>\n",
       "      <td>16.269987</td>\n",
       "    </tr>\n",
       "    <tr>\n",
       "      <th>3</th>\n",
       "      <td>1.797640</td>\n",
       "      <td>4.931396</td>\n",
       "    </tr>\n",
       "    <tr>\n",
       "      <th>4</th>\n",
       "      <td>-6.984493</td>\n",
       "      <td>12.525932</td>\n",
       "    </tr>\n",
       "  </tbody>\n",
       "</table>\n",
       "</div>"
      ],
      "text/plain": [
       "   embedding_x  embedding_y\n",
       "0    11.992380    15.063401\n",
       "1    17.543764     6.643464\n",
       "2    12.273921    16.269987\n",
       "3     1.797640     4.931396\n",
       "4    -6.984493    12.525932"
      ]
     },
     "execution_count": 142,
     "metadata": {},
     "output_type": "execute_result"
    }
   ],
   "source": [
    "X.head()"
   ]
  },
  {
   "cell_type": "code",
   "execution_count": 143,
   "metadata": {
    "ExecuteTime": {
     "end_time": "2021-08-03T23:32:49.418252Z",
     "start_time": "2021-08-03T23:32:49.413933Z"
    }
   },
   "outputs": [
    {
     "data": {
      "text/plain": [
       "(2968, 2)"
      ]
     },
     "execution_count": 143,
     "metadata": {},
     "output_type": "execute_result"
    }
   ],
   "source": [
    "X.shape"
   ]
  },
  {
   "cell_type": "markdown",
   "metadata": {},
   "source": [
    "## K-Means"
   ]
  },
  {
   "cell_type": "code",
   "execution_count": 144,
   "metadata": {
    "ExecuteTime": {
     "end_time": "2021-08-03T23:32:49.580083Z",
     "start_time": "2021-08-03T23:32:49.575561Z"
    }
   },
   "outputs": [],
   "source": [
    "from sklearn import metrics as m"
   ]
  },
  {
   "cell_type": "code",
   "execution_count": 145,
   "metadata": {
    "ExecuteTime": {
     "end_time": "2021-08-03T23:32:50.426897Z",
     "start_time": "2021-08-03T23:32:50.420079Z"
    }
   },
   "outputs": [],
   "source": [
    "clusters = np.arange(2, 30, 1)"
   ]
  },
  {
   "cell_type": "code",
   "execution_count": 146,
   "metadata": {
    "ExecuteTime": {
     "end_time": "2021-08-03T23:33:06.065343Z",
     "start_time": "2021-08-03T23:32:51.059308Z"
    },
    "scrolled": true
   },
   "outputs": [],
   "source": [
    "x=0\n",
    "kmeans_list=[]\n",
    "for k in clusters:\n",
    "    #model definition\n",
    "    kmeans_model = c.KMeans( n_clusters=k, init='random', n_init=10, max_iter=300)\n",
    "\n",
    "    #model training\n",
    "    kmeans_model.fit( X )\n",
    "\n",
    "    #model predict\n",
    "    labels = kmeans_model.predict( X )\n",
    "\n",
    "    #model perfomance\n",
    "    sil = m.silhouette_score( X, labels, metric='euclidean')\n",
    "    kmeans_list.append(sil)\n",
    "    \n"
   ]
  },
  {
   "cell_type": "code",
   "execution_count": 147,
   "metadata": {
    "ExecuteTime": {
     "end_time": "2021-08-03T23:33:06.246336Z",
     "start_time": "2021-08-03T23:33:06.066588Z"
    }
   },
   "outputs": [
    {
     "data": {
      "text/plain": [
       "Text(0, 0.5, 'Silhouette Score')"
      ]
     },
     "execution_count": 147,
     "metadata": {},
     "output_type": "execute_result"
    },
    {
     "data": {
      "image/png": "[encoded data removed]",
      "text/plain": [
       "<Figure size 1440x720 with 1 Axes>"
      ]
     },
     "metadata": {},
     "output_type": "display_data"
    }
   ],
   "source": [
    "plt.plot( clusters, kmeans_list, linestyle='--', marker='o', color='b')\n",
    "plt.xlabel('K')\n",
    "plt.ylabel('Silhouette Score')"
   ]
  },
  {
   "cell_type": "markdown",
   "metadata": {},
   "source": [
    "## GMM "
   ]
  },
  {
   "cell_type": "code",
   "execution_count": 148,
   "metadata": {
    "ExecuteTime": {
     "end_time": "2021-08-03T23:33:06.252799Z",
     "start_time": "2021-08-03T23:33:06.248630Z"
    }
   },
   "outputs": [],
   "source": [
    "from sklearn import mixture as mx"
   ]
  },
  {
   "cell_type": "code",
   "execution_count": 149,
   "metadata": {
    "ExecuteTime": {
     "end_time": "2021-08-03T23:33:15.343043Z",
     "start_time": "2021-08-03T23:33:06.254612Z"
    }
   },
   "outputs": [],
   "source": [
    "gmm_list = []\n",
    "for k in clusters:\n",
    "    #model definition\n",
    "    gmm_model = mx.GaussianMixture( n_components=k )\n",
    "\n",
    "    #model training\n",
    "    gmm_model.fit(X)\n",
    "    \n",
    "    #model predict\n",
    "    labels = gmm_model.predict( X )\n",
    "\n",
    "    #model perfomance\n",
    "    sil = m.silhouette_score( X, labels, metric='euclidean')\n",
    "    gmm_list.append( sil )"
   ]
  },
  {
   "cell_type": "code",
   "execution_count": 150,
   "metadata": {
    "ExecuteTime": {
     "end_time": "2021-08-03T23:33:15.558256Z",
     "start_time": "2021-08-03T23:33:15.345626Z"
    }
   },
   "outputs": [
    {
     "data": {
      "text/plain": [
       "Text(0, 0.5, 'Silhouette Score')"
      ]
     },
     "execution_count": 150,
     "metadata": {},
     "output_type": "execute_result"
    },
    {
     "data": {
      "image/png": "[encoded data removed]",
      "text/plain": [
       "<Figure size 1440x720 with 1 Axes>"
      ]
     },
     "metadata": {},
     "output_type": "display_data"
    }
   ],
   "source": [
    "plt.plot( clusters, gmm_list, linestyle='--', marker='o', color='b')\n",
    "plt.xlabel('K')\n",
    "plt.ylabel('Silhouette Score')"
   ]
  },
  {
   "cell_type": "markdown",
   "metadata": {},
   "source": [
    "## Hierarchical Clustering "
   ]
  },
  {
   "cell_type": "code",
   "execution_count": 151,
   "metadata": {
    "ExecuteTime": {
     "end_time": "2021-08-03T23:33:15.562666Z",
     "start_time": "2021-08-03T23:33:15.560221Z"
    }
   },
   "outputs": [],
   "source": [
    "from scipy.cluster import hierarchy as hc"
   ]
  },
  {
   "cell_type": "code",
   "execution_count": 152,
   "metadata": {
    "ExecuteTime": {
     "end_time": "2021-08-03T23:33:15.763096Z",
     "start_time": "2021-08-03T23:33:15.563914Z"
    }
   },
   "outputs": [],
   "source": [
    "hc_model = hc.linkage( X, 'ward')"
   ]
  },
  {
   "cell_type": "code",
   "execution_count": 153,
   "metadata": {
    "ExecuteTime": {
     "end_time": "2021-08-03T23:33:15.766613Z",
     "start_time": "2021-08-03T23:33:15.764201Z"
    }
   },
   "outputs": [],
   "source": [
    "#hc.dendrogram(\n",
    "#    hc_model,\n",
    "#    leaf_rotation=90,\n",
    "#    leaf_font_size=8)\n",
    "#\n",
    "#plt.plot()"
   ]
  },
  {
   "cell_type": "code",
   "execution_count": 154,
   "metadata": {
    "ExecuteTime": {
     "end_time": "2021-08-03T23:33:15.772737Z",
     "start_time": "2021-08-03T23:33:15.767656Z"
    }
   },
   "outputs": [],
   "source": [
    "#hc.dendrogram(\n",
    "#    hc_model,\n",
    "#    truncate_mode='lastp',\n",
    "#    p=12,\n",
    "#    leaf_rotation=90,\n",
    "#    leaf_font_size=8,\n",
    "#    show_contracted=True)\n",
    "#\n",
    "#plt.show()"
   ]
  },
  {
   "cell_type": "markdown",
   "metadata": {},
   "source": [
    "## HClustering Sillhouette Score"
   ]
  },
  {
   "cell_type": "code",
   "execution_count": 155,
   "metadata": {
    "ExecuteTime": {
     "end_time": "2021-08-03T23:33:26.242266Z",
     "start_time": "2021-08-03T23:33:15.774527Z"
    }
   },
   "outputs": [],
   "source": [
    "hc_list = []\n",
    "for k in clusters:\n",
    "    #model definition & training\n",
    "    hc_model = hc.linkage( X, 'ward')\n",
    "\n",
    "    #model predict\n",
    "    labels = hc.fcluster( hc_model, k, criterion='maxclust' )\n",
    "\n",
    "    #metrics\n",
    "    sil = m.silhouette_score( X, labels, metric='euclidean' )\n",
    "    hc_list.append(sil)"
   ]
  },
  {
   "cell_type": "code",
   "execution_count": 156,
   "metadata": {
    "ExecuteTime": {
     "end_time": "2021-08-03T23:33:26.424360Z",
     "start_time": "2021-08-03T23:33:26.245543Z"
    },
    "scrolled": false
   },
   "outputs": [
    {
     "data": {
      "text/plain": [
       "[<matplotlib.lines.Line2D at 0x7febaab0ad30>]"
      ]
     },
     "execution_count": 156,
     "metadata": {},
     "output_type": "execute_result"
    },
    {
     "data": {
      "image/png": "[encoded data removed]",
      "text/plain": [
       "<Figure size 1440x720 with 1 Axes>"
      ]
     },
     "metadata": {},
     "output_type": "display_data"
    }
   ],
   "source": [
    "plt.plot( clusters, hc_list, linestyle='--', marker='o', color='b')"
   ]
  },
  {
   "cell_type": "markdown",
   "metadata": {},
   "source": [
    "## DBSCAN "
   ]
  },
  {
   "cell_type": "code",
   "execution_count": null,
   "metadata": {
    "ExecuteTime": {
     "end_time": "2021-08-03T23:30:57.528966Z",
     "start_time": "2021-08-03T23:30:57.528948Z"
    }
   },
   "outputs": [],
   "source": [
    "eps=2\n",
    "min_samples=20\n",
    "\n",
    "#model definition\n",
    "dbscan_model = c.DBSCAN( eps=eps, min_samples=min_samples)\n",
    "\n",
    "#model training\n",
    "labels = dbscan_model.fit_predict( X )\n",
    "\n",
    "#metrics\n",
    "sil = m.silhouette_score( X, labels, metric='euclidean')\n",
    "print('Silhouette Score: {}'.format( sil ))\n",
    "print( 'Number of Clusters: {}'.format(len(unique(labels))))"
   ]
  },
  {
   "cell_type": "code",
   "execution_count": null,
   "metadata": {
    "ExecuteTime": {
     "end_time": "2021-08-03T23:30:57.530101Z",
     "start_time": "2021-08-03T23:30:57.530089Z"
    }
   },
   "outputs": [],
   "source": [
    "unique( labels ) #k=2 -1=ruido"
   ]
  },
  {
   "cell_type": "code",
   "execution_count": null,
   "metadata": {
    "ExecuteTime": {
     "end_time": "2021-08-03T23:30:57.531025Z",
     "start_time": "2021-08-03T23:30:57.531012Z"
    }
   },
   "outputs": [],
   "source": [
    "from sklearn.neighbors import NearestNeighbors"
   ]
  },
  {
   "cell_type": "code",
   "execution_count": null,
   "metadata": {
    "ExecuteTime": {
     "end_time": "2021-08-03T23:30:57.532109Z",
     "start_time": "2021-08-03T23:30:57.532088Z"
    }
   },
   "outputs": [],
   "source": [
    "neighbors = NearestNeighbors( n_neighbors = min_samples).fit( X )\n",
    "distances, indices = neighbors.kneighbors( X )"
   ]
  },
  {
   "cell_type": "code",
   "execution_count": null,
   "metadata": {
    "ExecuteTime": {
     "end_time": "2021-08-03T23:30:57.533412Z",
     "start_time": "2021-08-03T23:30:57.533397Z"
    },
    "cell_style": "split",
    "scrolled": false
   },
   "outputs": [],
   "source": [
    "distances = np.sort( distances, axis=0)\n",
    "distances = distances[:, 1]\n",
    "plt.plot(distances)"
   ]
  },
  {
   "cell_type": "code",
   "execution_count": null,
   "metadata": {
    "ExecuteTime": {
     "end_time": "2021-08-03T23:30:57.534138Z",
     "start_time": "2021-08-03T23:30:57.534127Z"
    },
    "cell_style": "split"
   },
   "outputs": [],
   "source": [
    "plt.plot(distances[2000:])"
   ]
  },
  {
   "cell_type": "code",
   "execution_count": null,
   "metadata": {
    "ExecuteTime": {
     "end_time": "2021-08-03T23:30:57.534954Z",
     "start_time": "2021-08-03T23:30:57.534944Z"
    }
   },
   "outputs": [],
   "source": [
    "dbscan_list = [0.618112, 0.000000, 0.000000, 0.000000, 0.000000, 0.000000]"
   ]
  },
  {
   "cell_type": "markdown",
   "metadata": {},
   "source": [
    "## Results "
   ]
  },
  {
   "cell_type": "code",
   "execution_count": 157,
   "metadata": {
    "ExecuteTime": {
     "end_time": "2021-08-03T23:33:26.429152Z",
     "start_time": "2021-08-03T23:33:26.425686Z"
    }
   },
   "outputs": [],
   "source": [
    "df_results = pd.DataFrame(\n",
    "    {'KMeans': kmeans_list,\n",
    "      'GMM': gmm_list,\n",
    "        'HC': hc_list,\n",
    "        #'DBSCAN': dbscan_list\n",
    "    }).T\n",
    "\n",
    "df_results.columns = clusters"
   ]
  },
  {
   "cell_type": "code",
   "execution_count": 158,
   "metadata": {
    "ExecuteTime": {
     "end_time": "2021-08-03T23:33:26.511544Z",
     "start_time": "2021-08-03T23:33:26.430257Z"
    }
   },
   "outputs": [
    {
     "data": {
      "text/html": [
       "<style type=\"text/css\">\n",
       "#T_e1fbc_row0_col9, #T_e1fbc_row1_col14, #T_e1fbc_row2_col9 {\n",
       "  background-color: lightgreen;\n",
       "}\n",
       "</style>\n",
       "<table id=\"T_e1fbc_\">\n",
       "  <thead>\n",
       "    <tr>\n",
       "      <th class=\"blank level0\" >&nbsp;</th>\n",
       "      <th class=\"col_heading level0 col0\" >2</th>\n",
       "      <th class=\"col_heading level0 col1\" >3</th>\n",
       "      <th class=\"col_heading level0 col2\" >4</th>\n",
       "      <th class=\"col_heading level0 col3\" >5</th>\n",
       "      <th class=\"col_heading level0 col4\" >6</th>\n",
       "      <th class=\"col_heading level0 col5\" >7</th>\n",
       "      <th class=\"col_heading level0 col6\" >8</th>\n",
       "      <th class=\"col_heading level0 col7\" >9</th>\n",
       "      <th class=\"col_heading level0 col8\" >10</th>\n",
       "      <th class=\"col_heading level0 col9\" >11</th>\n",
       "      <th class=\"col_heading level0 col10\" >12</th>\n",
       "      <th class=\"col_heading level0 col11\" >13</th>\n",
       "      <th class=\"col_heading level0 col12\" >14</th>\n",
       "      <th class=\"col_heading level0 col13\" >15</th>\n",
       "      <th class=\"col_heading level0 col14\" >16</th>\n",
       "      <th class=\"col_heading level0 col15\" >17</th>\n",
       "      <th class=\"col_heading level0 col16\" >18</th>\n",
       "      <th class=\"col_heading level0 col17\" >19</th>\n",
       "      <th class=\"col_heading level0 col18\" >20</th>\n",
       "      <th class=\"col_heading level0 col19\" >21</th>\n",
       "      <th class=\"col_heading level0 col20\" >22</th>\n",
       "      <th class=\"col_heading level0 col21\" >23</th>\n",
       "      <th class=\"col_heading level0 col22\" >24</th>\n",
       "      <th class=\"col_heading level0 col23\" >25</th>\n",
       "      <th class=\"col_heading level0 col24\" >26</th>\n",
       "      <th class=\"col_heading level0 col25\" >27</th>\n",
       "      <th class=\"col_heading level0 col26\" >28</th>\n",
       "      <th class=\"col_heading level0 col27\" >29</th>\n",
       "    </tr>\n",
       "  </thead>\n",
       "  <tbody>\n",
       "    <tr>\n",
       "      <th id=\"T_e1fbc_level0_row0\" class=\"row_heading level0 row0\" >KMeans</th>\n",
       "      <td id=\"T_e1fbc_row0_col0\" class=\"data row0 col0\" >0.415151</td>\n",
       "      <td id=\"T_e1fbc_row0_col1\" class=\"data row0 col1\" >0.466343</td>\n",
       "      <td id=\"T_e1fbc_row0_col2\" class=\"data row0 col2\" >0.535129</td>\n",
       "      <td id=\"T_e1fbc_row0_col3\" class=\"data row0 col3\" >0.560660</td>\n",
       "      <td id=\"T_e1fbc_row0_col4\" class=\"data row0 col4\" >0.566666</td>\n",
       "      <td id=\"T_e1fbc_row0_col5\" class=\"data row0 col5\" >0.612782</td>\n",
       "      <td id=\"T_e1fbc_row0_col6\" class=\"data row0 col6\" >0.639972</td>\n",
       "      <td id=\"T_e1fbc_row0_col7\" class=\"data row0 col7\" >0.622100</td>\n",
       "      <td id=\"T_e1fbc_row0_col8\" class=\"data row0 col8\" >0.672664</td>\n",
       "      <td id=\"T_e1fbc_row0_col9\" class=\"data row0 col9\" >0.699859</td>\n",
       "      <td id=\"T_e1fbc_row0_col10\" class=\"data row0 col10\" >0.614973</td>\n",
       "      <td id=\"T_e1fbc_row0_col11\" class=\"data row0 col11\" >0.620858</td>\n",
       "      <td id=\"T_e1fbc_row0_col12\" class=\"data row0 col12\" >0.558604</td>\n",
       "      <td id=\"T_e1fbc_row0_col13\" class=\"data row0 col13\" >0.629930</td>\n",
       "      <td id=\"T_e1fbc_row0_col14\" class=\"data row0 col14\" >0.596374</td>\n",
       "      <td id=\"T_e1fbc_row0_col15\" class=\"data row0 col15\" >0.654134</td>\n",
       "      <td id=\"T_e1fbc_row0_col16\" class=\"data row0 col16\" >0.669086</td>\n",
       "      <td id=\"T_e1fbc_row0_col17\" class=\"data row0 col17\" >0.609182</td>\n",
       "      <td id=\"T_e1fbc_row0_col18\" class=\"data row0 col18\" >0.611527</td>\n",
       "      <td id=\"T_e1fbc_row0_col19\" class=\"data row0 col19\" >0.555988</td>\n",
       "      <td id=\"T_e1fbc_row0_col20\" class=\"data row0 col20\" >0.585310</td>\n",
       "      <td id=\"T_e1fbc_row0_col21\" class=\"data row0 col21\" >0.612228</td>\n",
       "      <td id=\"T_e1fbc_row0_col22\" class=\"data row0 col22\" >0.586206</td>\n",
       "      <td id=\"T_e1fbc_row0_col23\" class=\"data row0 col23\" >0.598637</td>\n",
       "      <td id=\"T_e1fbc_row0_col24\" class=\"data row0 col24\" >0.579689</td>\n",
       "      <td id=\"T_e1fbc_row0_col25\" class=\"data row0 col25\" >0.587775</td>\n",
       "      <td id=\"T_e1fbc_row0_col26\" class=\"data row0 col26\" >0.629387</td>\n",
       "      <td id=\"T_e1fbc_row0_col27\" class=\"data row0 col27\" >0.619526</td>\n",
       "    </tr>\n",
       "    <tr>\n",
       "      <th id=\"T_e1fbc_level0_row1\" class=\"row_heading level0 row1\" >GMM</th>\n",
       "      <td id=\"T_e1fbc_row1_col0\" class=\"data row1 col0\" >0.366483</td>\n",
       "      <td id=\"T_e1fbc_row1_col1\" class=\"data row1 col1\" >0.462674</td>\n",
       "      <td id=\"T_e1fbc_row1_col2\" class=\"data row1 col2\" >0.528409</td>\n",
       "      <td id=\"T_e1fbc_row1_col3\" class=\"data row1 col3\" >0.507038</td>\n",
       "      <td id=\"T_e1fbc_row1_col4\" class=\"data row1 col4\" >0.583197</td>\n",
       "      <td id=\"T_e1fbc_row1_col5\" class=\"data row1 col5\" >0.611843</td>\n",
       "      <td id=\"T_e1fbc_row1_col6\" class=\"data row1 col6\" >0.605619</td>\n",
       "      <td id=\"T_e1fbc_row1_col7\" class=\"data row1 col7\" >0.639438</td>\n",
       "      <td id=\"T_e1fbc_row1_col8\" class=\"data row1 col8\" >0.614005</td>\n",
       "      <td id=\"T_e1fbc_row1_col9\" class=\"data row1 col9\" >0.639276</td>\n",
       "      <td id=\"T_e1fbc_row1_col10\" class=\"data row1 col10\" >0.670266</td>\n",
       "      <td id=\"T_e1fbc_row1_col11\" class=\"data row1 col11\" >0.621131</td>\n",
       "      <td id=\"T_e1fbc_row1_col12\" class=\"data row1 col12\" >0.646351</td>\n",
       "      <td id=\"T_e1fbc_row1_col13\" class=\"data row1 col13\" >0.650569</td>\n",
       "      <td id=\"T_e1fbc_row1_col14\" class=\"data row1 col14\" >0.673138</td>\n",
       "      <td id=\"T_e1fbc_row1_col15\" class=\"data row1 col15\" >0.641837</td>\n",
       "      <td id=\"T_e1fbc_row1_col16\" class=\"data row1 col16\" >0.667306</td>\n",
       "      <td id=\"T_e1fbc_row1_col17\" class=\"data row1 col17\" >0.625198</td>\n",
       "      <td id=\"T_e1fbc_row1_col18\" class=\"data row1 col18\" >0.562712</td>\n",
       "      <td id=\"T_e1fbc_row1_col19\" class=\"data row1 col19\" >0.635494</td>\n",
       "      <td id=\"T_e1fbc_row1_col20\" class=\"data row1 col20\" >0.581763</td>\n",
       "      <td id=\"T_e1fbc_row1_col21\" class=\"data row1 col21\" >0.629427</td>\n",
       "      <td id=\"T_e1fbc_row1_col22\" class=\"data row1 col22\" >0.608902</td>\n",
       "      <td id=\"T_e1fbc_row1_col23\" class=\"data row1 col23\" >0.614231</td>\n",
       "      <td id=\"T_e1fbc_row1_col24\" class=\"data row1 col24\" >0.572696</td>\n",
       "      <td id=\"T_e1fbc_row1_col25\" class=\"data row1 col25\" >0.585528</td>\n",
       "      <td id=\"T_e1fbc_row1_col26\" class=\"data row1 col26\" >0.592973</td>\n",
       "      <td id=\"T_e1fbc_row1_col27\" class=\"data row1 col27\" >0.612064</td>\n",
       "    </tr>\n",
       "    <tr>\n",
       "      <th id=\"T_e1fbc_level0_row2\" class=\"row_heading level0 row2\" >HC</th>\n",
       "      <td id=\"T_e1fbc_row2_col0\" class=\"data row2 col0\" >0.427246</td>\n",
       "      <td id=\"T_e1fbc_row2_col1\" class=\"data row2 col1\" >0.461204</td>\n",
       "      <td id=\"T_e1fbc_row2_col2\" class=\"data row2 col2\" >0.534550</td>\n",
       "      <td id=\"T_e1fbc_row2_col3\" class=\"data row2 col3\" >0.560660</td>\n",
       "      <td id=\"T_e1fbc_row2_col4\" class=\"data row2 col4\" >0.566666</td>\n",
       "      <td id=\"T_e1fbc_row2_col5\" class=\"data row2 col5\" >0.629827</td>\n",
       "      <td id=\"T_e1fbc_row2_col6\" class=\"data row2 col6\" >0.631557</td>\n",
       "      <td id=\"T_e1fbc_row2_col7\" class=\"data row2 col7\" >0.665367</td>\n",
       "      <td id=\"T_e1fbc_row2_col8\" class=\"data row2 col8\" >0.681264</td>\n",
       "      <td id=\"T_e1fbc_row2_col9\" class=\"data row2 col9\" >0.699859</td>\n",
       "      <td id=\"T_e1fbc_row2_col10\" class=\"data row2 col10\" >0.675493</td>\n",
       "      <td id=\"T_e1fbc_row2_col11\" class=\"data row2 col11\" >0.677059</td>\n",
       "      <td id=\"T_e1fbc_row2_col12\" class=\"data row2 col12\" >0.693456</td>\n",
       "      <td id=\"T_e1fbc_row2_col13\" class=\"data row2 col13\" >0.668640</td>\n",
       "      <td id=\"T_e1fbc_row2_col14\" class=\"data row2 col14\" >0.676708</td>\n",
       "      <td id=\"T_e1fbc_row2_col15\" class=\"data row2 col15\" >0.652493</td>\n",
       "      <td id=\"T_e1fbc_row2_col16\" class=\"data row2 col16\" >0.652172</td>\n",
       "      <td id=\"T_e1fbc_row2_col17\" class=\"data row2 col17\" >0.644414</td>\n",
       "      <td id=\"T_e1fbc_row2_col18\" class=\"data row2 col18\" >0.615503</td>\n",
       "      <td id=\"T_e1fbc_row2_col19\" class=\"data row2 col19\" >0.626611</td>\n",
       "      <td id=\"T_e1fbc_row2_col20\" class=\"data row2 col20\" >0.624250</td>\n",
       "      <td id=\"T_e1fbc_row2_col21\" class=\"data row2 col21\" >0.632633</td>\n",
       "      <td id=\"T_e1fbc_row2_col22\" class=\"data row2 col22\" >0.624693</td>\n",
       "      <td id=\"T_e1fbc_row2_col23\" class=\"data row2 col23\" >0.618534</td>\n",
       "      <td id=\"T_e1fbc_row2_col24\" class=\"data row2 col24\" >0.625369</td>\n",
       "      <td id=\"T_e1fbc_row2_col25\" class=\"data row2 col25\" >0.623546</td>\n",
       "      <td id=\"T_e1fbc_row2_col26\" class=\"data row2 col26\" >0.619603</td>\n",
       "      <td id=\"T_e1fbc_row2_col27\" class=\"data row2 col27\" >0.618657</td>\n",
       "    </tr>\n",
       "  </tbody>\n",
       "</table>\n"
      ],
      "text/plain": [
       "<pandas.io.formats.style.Styler at 0x7febaab30d60>"
      ]
     },
     "execution_count": 158,
     "metadata": {},
     "output_type": "execute_result"
    }
   ],
   "source": [
    "df_results.style.highlight_max( color='lightgreen', axis=1)"
   ]
  },
  {
   "cell_type": "markdown",
   "metadata": {},
   "source": [
    "##  Within-Cluster Sum of Square (Wss)"
   ]
  },
  {
   "cell_type": "code",
   "execution_count": 159,
   "metadata": {
    "ExecuteTime": {
     "end_time": "2021-08-03T23:33:31.440904Z",
     "start_time": "2021-08-03T23:33:26.515696Z"
    }
   },
   "outputs": [
    {
     "data": {
      "text/plain": [
       "Text(0.5, 1.0, 'WSS vs K')"
      ]
     },
     "execution_count": 159,
     "metadata": {},
     "output_type": "execute_result"
    },
    {
     "data": {
      "image/png": "[encoded data removed]",
      "text/plain": [
       "<Figure size 1440x720 with 1 Axes>"
      ]
     },
     "metadata": {},
     "output_type": "display_data"
    }
   ],
   "source": [
    "wss = []\n",
    "for k in clusters:\n",
    "    #model definition\n",
    "    kmeans = c.KMeans( init='random', n_clusters = k, n_init=10, max_iter=300, random_state=42)\n",
    "    \n",
    "    #model training\n",
    "    kmeans.fit( X )\n",
    "    \n",
    "    #validation\n",
    "    wss.append(kmeans.inertia_)\n",
    "    \n",
    "#plot wss\n",
    "plt.plot(clusters, wss, linestyle='--', marker='o', color='b')\n",
    "plt.xlabel('K')\n",
    "plt.ylabel('Within-CLuster Sum of Square')\n",
    "plt.title('WSS vs K')"
   ]
  },
  {
   "cell_type": "markdown",
   "metadata": {},
   "source": [
    "## Sillhouette Analysis"
   ]
  },
  {
   "cell_type": "code",
   "execution_count": 160,
   "metadata": {
    "ExecuteTime": {
     "end_time": "2021-08-03T23:33:31.444958Z",
     "start_time": "2021-08-03T23:33:31.442009Z"
    }
   },
   "outputs": [],
   "source": [
    "#fig, ax = plt.subplots(3, 2 )\n",
    "#fig.set_size_inches( 25, 20 )\n",
    "#\n",
    "#for k in clusters:\n",
    "#    q, mod = divmod( k, 2)\n",
    "#    \n",
    "#    ax[q-1, mod]. set_xlim( [-0.1, 1] )\n",
    "#    ax[q-1, mod]. set_ylim( [ 0, len(X) + (k+1)*10] )\n",
    "#    \n",
    "#    #model definition & training\n",
    "#    hc_model = hc.linkage( X, 'ward')\n",
    "#\n",
    "#    #model predict\n",
    "#    labels = hc.fcluster( hc_model, k, criterion='maxclust')\n",
    "#\n",
    "#    #performance\n",
    "#    ss = m.silhouette_score(X, labels, metric='euclidean')\n",
    "#    print('For K = {}. Silhouette Score:{}'.format(k, ss))\n",
    "#\n",
    "#    samples_silhouette_values = m.silhouette_samples( X, labels)\n",
    "#\n",
    "#\n",
    "#\n",
    "#    y_lower = 10\n",
    "#    for i in range ( k ):\n",
    "#\n",
    "#\n",
    "#        #select clusters\n",
    "#        ith_samples_silhouette_values = samples_silhouette_values[ labels == i]\n",
    "#        \n",
    "#        #sort values\n",
    "#        ith_samples_silhouette_values.sort()        \n",
    "#\n",
    "#        #size clusters\n",
    "#        size_cluster_i = ith_samples_silhouette_values.shape[0]\n",
    "#        \n",
    "#\n",
    "#        #limits\n",
    "#        y_upper = y_lower + size_cluster_i\n",
    "#        cmap = cm.get_cmap('Spectral')\n",
    "#        color = cmap( i/ k )\n",
    "#\n",
    "#        ax[q-1, mod].fill_betweenx( np.arange(y_lower, y_upper), 0, ith_samples_silhouette_values)\n",
    "#        y_lower = y_upper + 10\n",
    "#    \n",
    "#    ax[q-1, mod].set_yticks([])\n",
    "#    ax[q-1, mod].set_xticks([-0.1, 0, 0.2, 0.4, 0.6, 0.8, 1])"
   ]
  },
  {
   "cell_type": "markdown",
   "metadata": {},
   "source": [
    "# Model Training"
   ]
  },
  {
   "cell_type": "markdown",
   "metadata": {},
   "source": [
    "## K-Means"
   ]
  },
  {
   "cell_type": "code",
   "execution_count": 199,
   "metadata": {
    "ExecuteTime": {
     "end_time": "2021-08-03T23:40:24.943206Z",
     "start_time": "2021-08-03T23:40:24.502475Z"
    }
   },
   "outputs": [],
   "source": [
    "#model definition\n",
    "k = 11\n",
    "kmeans = c.KMeans(init ='random', n_clusters=k, n_init=10, max_iter=300, random_state=42)\n",
    "\n",
    "#model training\n",
    "kmeans.fit(X)\n",
    "\n",
    "#clustering\n",
    "labels = kmeans.labels_"
   ]
  },
  {
   "cell_type": "markdown",
   "metadata": {},
   "source": [
    "## HClustering Sillhouette Score"
   ]
  },
  {
   "cell_type": "code",
   "execution_count": 185,
   "metadata": {
    "ExecuteTime": {
     "end_time": "2021-08-03T23:38:34.726144Z",
     "start_time": "2021-08-03T23:38:34.513824Z"
    }
   },
   "outputs": [],
   "source": [
    "k = 11\n",
    "#model definition & training\n",
    "hc_model = hc.linkage( X, 'ward')\n",
    "\n",
    "#model predict\n",
    "labels = hc.fcluster( hc_model, k, criterion='maxclust' )"
   ]
  },
  {
   "cell_type": "markdown",
   "metadata": {},
   "source": [
    "## GMM"
   ]
  },
  {
   "cell_type": "code",
   "execution_count": 182,
   "metadata": {
    "ExecuteTime": {
     "end_time": "2021-08-03T23:38:19.666295Z",
     "start_time": "2021-08-03T23:38:19.497143Z"
    }
   },
   "outputs": [],
   "source": [
    "k=12\n",
    "#model definition\n",
    "gmm_model = mx.GaussianMixture( n_components=k )\n",
    "\n",
    "#model training\n",
    "gmm_model.fit(X)\n",
    "\n",
    "#model predict\n",
    "labels = gmm_model.predict( X )"
   ]
  },
  {
   "cell_type": "markdown",
   "metadata": {},
   "source": [
    "## Cluster Validation"
   ]
  },
  {
   "cell_type": "code",
   "execution_count": 196,
   "metadata": {
    "ExecuteTime": {
     "end_time": "2021-08-03T23:40:11.376172Z",
     "start_time": "2021-08-03T23:40:11.164728Z"
    }
   },
   "outputs": [
    {
     "name": "stdout",
     "output_type": "stream",
     "text": [
      "WSS value: 14821.287109375\n",
      "SS value: 0.6412756443023682\n"
     ]
    }
   ],
   "source": [
    "#WSS (Within-cluster sum of square)\n",
    "print('WSS value: {}'.format( kmeans.inertia_ ) )\n",
    "\n",
    "# SS (Silhouette Score)\n",
    "print('SS value: {}'.format( m.silhouette_score( X, labels, metric='euclidean' ) ) ) "
   ]
  },
  {
   "cell_type": "markdown",
   "metadata": {},
   "source": [
    "# Cluster Analysis"
   ]
  },
  {
   "cell_type": "code",
   "execution_count": 200,
   "metadata": {
    "ExecuteTime": {
     "end_time": "2021-08-03T23:40:27.544569Z",
     "start_time": "2021-08-03T23:40:27.532352Z"
    }
   },
   "outputs": [
    {
     "data": {
      "text/html": [
       "<div>\n",
       "<style scoped>\n",
       "    .dataframe tbody tr th:only-of-type {\n",
       "        vertical-align: middle;\n",
       "    }\n",
       "\n",
       "    .dataframe tbody tr th {\n",
       "        vertical-align: top;\n",
       "    }\n",
       "\n",
       "    .dataframe thead th {\n",
       "        text-align: right;\n",
       "    }\n",
       "</style>\n",
       "<table border=\"1\" class=\"dataframe\">\n",
       "  <thead>\n",
       "    <tr style=\"text-align: right;\">\n",
       "      <th></th>\n",
       "      <th>embedding_x</th>\n",
       "      <th>embedding_y</th>\n",
       "      <th>clusters</th>\n",
       "    </tr>\n",
       "  </thead>\n",
       "  <tbody>\n",
       "    <tr>\n",
       "      <th>0</th>\n",
       "      <td>11.992380</td>\n",
       "      <td>15.063401</td>\n",
       "      <td>10</td>\n",
       "    </tr>\n",
       "    <tr>\n",
       "      <th>1</th>\n",
       "      <td>17.543764</td>\n",
       "      <td>6.643464</td>\n",
       "      <td>9</td>\n",
       "    </tr>\n",
       "    <tr>\n",
       "      <th>2</th>\n",
       "      <td>12.273921</td>\n",
       "      <td>16.269987</td>\n",
       "      <td>10</td>\n",
       "    </tr>\n",
       "    <tr>\n",
       "      <th>3</th>\n",
       "      <td>1.797640</td>\n",
       "      <td>4.931396</td>\n",
       "      <td>0</td>\n",
       "    </tr>\n",
       "    <tr>\n",
       "      <th>4</th>\n",
       "      <td>-6.984493</td>\n",
       "      <td>12.525932</td>\n",
       "      <td>7</td>\n",
       "    </tr>\n",
       "  </tbody>\n",
       "</table>\n",
       "</div>"
      ],
      "text/plain": [
       "   embedding_x  embedding_y  clusters\n",
       "0    11.992380    15.063401        10\n",
       "1    17.543764     6.643464         9\n",
       "2    12.273921    16.269987        10\n",
       "3     1.797640     4.931396         0\n",
       "4    -6.984493    12.525932         7"
      ]
     },
     "execution_count": 200,
     "metadata": {},
     "output_type": "execute_result"
    }
   ],
   "source": [
    "df9 = X.copy()\n",
    "df9['clusters'] = labels\n",
    "df9.head()"
   ]
  },
  {
   "cell_type": "markdown",
   "metadata": {},
   "source": [
    "## Vizualization Inspection"
   ]
  },
  {
   "cell_type": "code",
   "execution_count": 201,
   "metadata": {
    "ExecuteTime": {
     "end_time": "2021-08-03T23:40:28.945267Z",
     "start_time": "2021-08-03T23:40:28.521836Z"
    }
   },
   "outputs": [
    {
     "data": {
      "text/plain": [
       "<AxesSubplot:xlabel='embedding_x', ylabel='embedding_y'>"
      ]
     },
     "execution_count": 201,
     "metadata": {},
     "output_type": "execute_result"
    },
    {
     "data": {
      "image/png": "[encoded data removed]",
      "text/plain": [
       "<Figure size 1440x720 with 1 Axes>"
      ]
     },
     "metadata": {},
     "output_type": "display_data"
    }
   ],
   "source": [
    "sns.scatterplot(x='embedding_x', y='embedding_y', hue='clusters', data=df9, palette='deep')"
   ]
  },
  {
   "cell_type": "code",
   "execution_count": 167,
   "metadata": {
    "ExecuteTime": {
     "end_time": "2021-08-03T23:33:33.128046Z",
     "start_time": "2021-08-03T23:33:33.125022Z"
    }
   },
   "outputs": [],
   "source": [
    "#fig = px.scatter_3d(df9, x='recency_days', y='invoice_no', z='gross_revenue', color='clusters')\n",
    "#fig.show()\n",
    "\n",
    "#visualizer = SilhouetteVisualizer( kmeans, colors='yellowbrick')\n",
    "#visualizer.fit( X )\n",
    "#visualizer.finalize()"
   ]
  },
  {
   "cell_type": "markdown",
   "metadata": {},
   "source": [
    "## 2d Plot"
   ]
  },
  {
   "cell_type": "code",
   "execution_count": 168,
   "metadata": {
    "ExecuteTime": {
     "end_time": "2021-08-03T23:33:33.134097Z",
     "start_time": "2021-08-03T23:33:33.129410Z"
    }
   },
   "outputs": [],
   "source": [
    "#df_viz = df9.drop( columns='customer_id', axis=1)\n",
    "#sns.pairplot( df_viz, hue='clusters')"
   ]
  },
  {
   "cell_type": "markdown",
   "metadata": {},
   "source": [
    "## UMAP"
   ]
  },
  {
   "cell_type": "markdown",
   "metadata": {},
   "source": [
    "Machine Learning - Mainfold\n",
    "PCA - Matrix, Espaço de Distância - Espaço de Hilbert -  9 condições - Colorários\n",
    "\n",
    "UMAP - t-SNE (2009) - Mainfold - Topologia"
   ]
  },
  {
   "cell_type": "code",
   "execution_count": 169,
   "metadata": {
    "ExecuteTime": {
     "end_time": "2021-08-03T23:33:33.139882Z",
     "start_time": "2021-08-03T23:33:33.135163Z"
    }
   },
   "outputs": [],
   "source": [
    "#reducer = umap.UMAP( n_neighbors=20, random_state=42)\n",
    "#embedding = reducer.fit_transform( X )\n",
    "#\n",
    "##embedding\n",
    "#df_viz['embedding_x'] = embedding[:, 0]\n",
    "#df_viz['embedding_y'] = embedding[:, 1]\n",
    "#\n",
    "##plot UMAP\n",
    "#sns.scatterplot(x='embedding_x', y='embedding_y', hue='clusters', \n",
    "#                palette=sns.color_palette('hls', n_colors=len(df_viz['clusters'].unique() )), data=df_viz)"
   ]
  },
  {
   "cell_type": "markdown",
   "metadata": {},
   "source": [
    "## Cluster Profile"
   ]
  },
  {
   "cell_type": "code",
   "execution_count": 202,
   "metadata": {
    "ExecuteTime": {
     "end_time": "2021-08-03T23:40:37.361340Z",
     "start_time": "2021-08-03T23:40:37.353461Z"
    }
   },
   "outputs": [],
   "source": [
    "df9 = df4.copy()\n",
    "df9['clusters'] = labels"
   ]
  },
  {
   "cell_type": "code",
   "execution_count": 203,
   "metadata": {
    "ExecuteTime": {
     "end_time": "2021-08-03T23:40:37.940762Z",
     "start_time": "2021-08-03T23:40:37.919878Z"
    }
   },
   "outputs": [
    {
     "data": {
      "text/html": [
       "<div>\n",
       "<style scoped>\n",
       "    .dataframe tbody tr th:only-of-type {\n",
       "        vertical-align: middle;\n",
       "    }\n",
       "\n",
       "    .dataframe tbody tr th {\n",
       "        vertical-align: top;\n",
       "    }\n",
       "\n",
       "    .dataframe thead th {\n",
       "        text-align: right;\n",
       "    }\n",
       "</style>\n",
       "<table border=\"1\" class=\"dataframe\">\n",
       "  <thead>\n",
       "    <tr style=\"text-align: right;\">\n",
       "      <th></th>\n",
       "      <th>customer_id</th>\n",
       "      <th>gross_revenue</th>\n",
       "      <th>recency_days</th>\n",
       "      <th>qtde_invoices</th>\n",
       "      <th>qtde_items</th>\n",
       "      <th>qtde_products</th>\n",
       "      <th>avg_ticket</th>\n",
       "      <th>avg_recency_days</th>\n",
       "      <th>frequency</th>\n",
       "      <th>qtde_returns</th>\n",
       "      <th>avg_basket_size</th>\n",
       "      <th>avg_unique_basket_size</th>\n",
       "      <th>clusters</th>\n",
       "    </tr>\n",
       "  </thead>\n",
       "  <tbody>\n",
       "    <tr>\n",
       "      <th>0</th>\n",
       "      <td>17850</td>\n",
       "      <td>5391.21</td>\n",
       "      <td>372.0</td>\n",
       "      <td>34.0</td>\n",
       "      <td>1733.0</td>\n",
       "      <td>297.0</td>\n",
       "      <td>18.152222</td>\n",
       "      <td>35.500000</td>\n",
       "      <td>17.000000</td>\n",
       "      <td>40.0</td>\n",
       "      <td>50.970588</td>\n",
       "      <td>8.735294</td>\n",
       "      <td>10</td>\n",
       "    </tr>\n",
       "    <tr>\n",
       "      <th>1</th>\n",
       "      <td>13047</td>\n",
       "      <td>3232.59</td>\n",
       "      <td>56.0</td>\n",
       "      <td>9.0</td>\n",
       "      <td>1390.0</td>\n",
       "      <td>171.0</td>\n",
       "      <td>18.904035</td>\n",
       "      <td>27.250000</td>\n",
       "      <td>0.028302</td>\n",
       "      <td>35.0</td>\n",
       "      <td>154.444444</td>\n",
       "      <td>19.000000</td>\n",
       "      <td>9</td>\n",
       "    </tr>\n",
       "    <tr>\n",
       "      <th>2</th>\n",
       "      <td>12583</td>\n",
       "      <td>6705.38</td>\n",
       "      <td>2.0</td>\n",
       "      <td>15.0</td>\n",
       "      <td>5028.0</td>\n",
       "      <td>232.0</td>\n",
       "      <td>28.902500</td>\n",
       "      <td>23.187500</td>\n",
       "      <td>0.040323</td>\n",
       "      <td>50.0</td>\n",
       "      <td>335.200000</td>\n",
       "      <td>15.466667</td>\n",
       "      <td>10</td>\n",
       "    </tr>\n",
       "    <tr>\n",
       "      <th>3</th>\n",
       "      <td>13748</td>\n",
       "      <td>948.25</td>\n",
       "      <td>95.0</td>\n",
       "      <td>5.0</td>\n",
       "      <td>439.0</td>\n",
       "      <td>28.0</td>\n",
       "      <td>33.866071</td>\n",
       "      <td>92.666667</td>\n",
       "      <td>0.017921</td>\n",
       "      <td>0.0</td>\n",
       "      <td>87.800000</td>\n",
       "      <td>5.600000</td>\n",
       "      <td>0</td>\n",
       "    </tr>\n",
       "    <tr>\n",
       "      <th>4</th>\n",
       "      <td>15100</td>\n",
       "      <td>876.00</td>\n",
       "      <td>333.0</td>\n",
       "      <td>3.0</td>\n",
       "      <td>80.0</td>\n",
       "      <td>3.0</td>\n",
       "      <td>292.000000</td>\n",
       "      <td>8.600000</td>\n",
       "      <td>0.073171</td>\n",
       "      <td>22.0</td>\n",
       "      <td>26.666667</td>\n",
       "      <td>1.000000</td>\n",
       "      <td>7</td>\n",
       "    </tr>\n",
       "  </tbody>\n",
       "</table>\n",
       "</div>"
      ],
      "text/plain": [
       "   customer_id  gross_revenue  recency_days  qtde_invoices  qtde_items  qtde_products  avg_ticket  avg_recency_days  frequency  qtde_returns  avg_basket_size  avg_unique_basket_size  clusters\n",
       "0        17850        5391.21         372.0           34.0      1733.0          297.0   18.152222         35.500000  17.000000          40.0        50.970588                8.735294        10\n",
       "1        13047        3232.59          56.0            9.0      1390.0          171.0   18.904035         27.250000   0.028302          35.0       154.444444               19.000000         9\n",
       "2        12583        6705.38           2.0           15.0      5028.0          232.0   28.902500         23.187500   0.040323          50.0       335.200000               15.466667        10\n",
       "3        13748         948.25          95.0            5.0       439.0           28.0   33.866071         92.666667   0.017921           0.0        87.800000                5.600000         0\n",
       "4        15100         876.00         333.0            3.0        80.0            3.0  292.000000          8.600000   0.073171          22.0        26.666667                1.000000         7"
      ]
     },
     "execution_count": 203,
     "metadata": {},
     "output_type": "execute_result"
    }
   ],
   "source": [
    "df9.head()"
   ]
  },
  {
   "cell_type": "code",
   "execution_count": 204,
   "metadata": {
    "ExecuteTime": {
     "end_time": "2021-08-03T23:40:38.935163Z",
     "start_time": "2021-08-03T23:40:38.888944Z"
    }
   },
   "outputs": [],
   "source": [
    "#Number of customer\n",
    "df_cluster = df9[['customer_id', 'clusters']].groupby('clusters').count().reset_index()\n",
    "df_cluster['perc_customer'] = 100 * ( df_cluster['customer_id'] / df_cluster['customer_id'].sum() )\n",
    "\n",
    "#AVG Gross Revenue\n",
    "df_avg_gross_revenue = df9[['gross_revenue', 'clusters']].groupby('clusters').mean().reset_index()\n",
    "df_cluster = pd.merge( df_cluster, df_avg_gross_revenue, how='inner', on='clusters')\n",
    "\n",
    "#AVG recency days\n",
    "df_avg_gross_days = df9[['recency_days', 'clusters']].groupby('clusters').mean().reset_index()\n",
    "df_cluster = pd.merge( df_cluster, df_avg_gross_days, how='inner', on='clusters')\n",
    "\n",
    "#AVG invoice_no\n",
    "df_avg_invoice_no = df9[['qtde_products', 'clusters']].groupby('clusters').mean().reset_index()\n",
    "df_cluster = pd.merge( df_cluster, df_avg_invoice_no, how='inner', on='clusters')\n",
    "\n",
    "#AVG ticket\n",
    "df_ticket = df9[['frequency', 'clusters']].groupby('clusters').mean().reset_index()\n",
    "df_cluster = pd.merge( df_cluster, df_ticket, how='inner', on='clusters')\n",
    "\n",
    "#AVG ticket\n",
    "df_ticket = df9[['qtde_returns', 'clusters']].groupby('clusters').mean().reset_index()\n",
    "df_cluster = pd.merge( df_cluster, df_ticket, how='inner', on='clusters')"
   ]
  },
  {
   "cell_type": "code",
   "execution_count": 205,
   "metadata": {
    "ExecuteTime": {
     "end_time": "2021-08-03T23:40:40.242292Z",
     "start_time": "2021-08-03T23:40:40.226396Z"
    }
   },
   "outputs": [
    {
     "data": {
      "text/html": [
       "<div>\n",
       "<style scoped>\n",
       "    .dataframe tbody tr th:only-of-type {\n",
       "        vertical-align: middle;\n",
       "    }\n",
       "\n",
       "    .dataframe tbody tr th {\n",
       "        vertical-align: top;\n",
       "    }\n",
       "\n",
       "    .dataframe thead th {\n",
       "        text-align: right;\n",
       "    }\n",
       "</style>\n",
       "<table border=\"1\" class=\"dataframe\">\n",
       "  <thead>\n",
       "    <tr style=\"text-align: right;\">\n",
       "      <th></th>\n",
       "      <th>clusters</th>\n",
       "      <th>customer_id</th>\n",
       "      <th>perc_customer</th>\n",
       "      <th>gross_revenue</th>\n",
       "      <th>recency_days</th>\n",
       "      <th>qtde_products</th>\n",
       "      <th>frequency</th>\n",
       "      <th>qtde_returns</th>\n",
       "    </tr>\n",
       "  </thead>\n",
       "  <tbody>\n",
       "    <tr>\n",
       "      <th>0</th>\n",
       "      <td>0</td>\n",
       "      <td>175</td>\n",
       "      <td>5.896226</td>\n",
       "      <td>827.409714</td>\n",
       "      <td>92.022857</td>\n",
       "      <td>26.811429</td>\n",
       "      <td>0.161952</td>\n",
       "      <td>22.868571</td>\n",
       "    </tr>\n",
       "    <tr>\n",
       "      <th>1</th>\n",
       "      <td>1</td>\n",
       "      <td>322</td>\n",
       "      <td>10.849057</td>\n",
       "      <td>971.000590</td>\n",
       "      <td>75.329193</td>\n",
       "      <td>37.456522</td>\n",
       "      <td>0.074586</td>\n",
       "      <td>6.571429</td>\n",
       "    </tr>\n",
       "    <tr>\n",
       "      <th>2</th>\n",
       "      <td>2</td>\n",
       "      <td>200</td>\n",
       "      <td>6.738544</td>\n",
       "      <td>647.933500</td>\n",
       "      <td>47.280000</td>\n",
       "      <td>11.510000</td>\n",
       "      <td>0.025991</td>\n",
       "      <td>0.845000</td>\n",
       "    </tr>\n",
       "    <tr>\n",
       "      <th>3</th>\n",
       "      <td>3</td>\n",
       "      <td>372</td>\n",
       "      <td>12.533693</td>\n",
       "      <td>1237.710134</td>\n",
       "      <td>61.282258</td>\n",
       "      <td>54.346774</td>\n",
       "      <td>0.043705</td>\n",
       "      <td>8.771505</td>\n",
       "    </tr>\n",
       "    <tr>\n",
       "      <th>4</th>\n",
       "      <td>4</td>\n",
       "      <td>134</td>\n",
       "      <td>4.514825</td>\n",
       "      <td>4595.674627</td>\n",
       "      <td>52.194030</td>\n",
       "      <td>101.134328</td>\n",
       "      <td>0.063555</td>\n",
       "      <td>39.432836</td>\n",
       "    </tr>\n",
       "    <tr>\n",
       "      <th>5</th>\n",
       "      <td>5</td>\n",
       "      <td>404</td>\n",
       "      <td>13.611860</td>\n",
       "      <td>1689.073490</td>\n",
       "      <td>54.809406</td>\n",
       "      <td>89.175743</td>\n",
       "      <td>0.049992</td>\n",
       "      <td>11.542079</td>\n",
       "    </tr>\n",
       "    <tr>\n",
       "      <th>6</th>\n",
       "      <td>6</td>\n",
       "      <td>356</td>\n",
       "      <td>11.994609</td>\n",
       "      <td>2404.790843</td>\n",
       "      <td>43.603933</td>\n",
       "      <td>128.362360</td>\n",
       "      <td>0.042313</td>\n",
       "      <td>19.904494</td>\n",
       "    </tr>\n",
       "    <tr>\n",
       "      <th>7</th>\n",
       "      <td>7</td>\n",
       "      <td>166</td>\n",
       "      <td>5.592992</td>\n",
       "      <td>424.504277</td>\n",
       "      <td>162.271084</td>\n",
       "      <td>11.198795</td>\n",
       "      <td>0.743519</td>\n",
       "      <td>18.361446</td>\n",
       "    </tr>\n",
       "    <tr>\n",
       "      <th>8</th>\n",
       "      <td>8</td>\n",
       "      <td>226</td>\n",
       "      <td>7.614555</td>\n",
       "      <td>565.176947</td>\n",
       "      <td>139.991150</td>\n",
       "      <td>18.681416</td>\n",
       "      <td>0.193812</td>\n",
       "      <td>2.893805</td>\n",
       "    </tr>\n",
       "    <tr>\n",
       "      <th>9</th>\n",
       "      <td>9</td>\n",
       "      <td>145</td>\n",
       "      <td>4.885445</td>\n",
       "      <td>3164.115448</td>\n",
       "      <td>34.427586</td>\n",
       "      <td>173.841379</td>\n",
       "      <td>0.060415</td>\n",
       "      <td>23.482759</td>\n",
       "    </tr>\n",
       "    <tr>\n",
       "      <th>10</th>\n",
       "      <td>10</td>\n",
       "      <td>468</td>\n",
       "      <td>15.768194</td>\n",
       "      <td>8835.897073</td>\n",
       "      <td>21.438034</td>\n",
       "      <td>424.087607</td>\n",
       "      <td>0.094571</td>\n",
       "      <td>149.271368</td>\n",
       "    </tr>\n",
       "  </tbody>\n",
       "</table>\n",
       "</div>"
      ],
      "text/plain": [
       "    clusters  customer_id  perc_customer  gross_revenue  recency_days  qtde_products  frequency  qtde_returns\n",
       "0          0          175       5.896226     827.409714     92.022857      26.811429   0.161952     22.868571\n",
       "1          1          322      10.849057     971.000590     75.329193      37.456522   0.074586      6.571429\n",
       "2          2          200       6.738544     647.933500     47.280000      11.510000   0.025991      0.845000\n",
       "3          3          372      12.533693    1237.710134     61.282258      54.346774   0.043705      8.771505\n",
       "4          4          134       4.514825    4595.674627     52.194030     101.134328   0.063555     39.432836\n",
       "5          5          404      13.611860    1689.073490     54.809406      89.175743   0.049992     11.542079\n",
       "6          6          356      11.994609    2404.790843     43.603933     128.362360   0.042313     19.904494\n",
       "7          7          166       5.592992     424.504277    162.271084      11.198795   0.743519     18.361446\n",
       "8          8          226       7.614555     565.176947    139.991150      18.681416   0.193812      2.893805\n",
       "9          9          145       4.885445    3164.115448     34.427586     173.841379   0.060415     23.482759\n",
       "10        10          468      15.768194    8835.897073     21.438034     424.087607   0.094571    149.271368"
      ]
     },
     "execution_count": 205,
     "metadata": {},
     "output_type": "execute_result"
    }
   ],
   "source": [
    "df_cluster\n",
    "#gross_revenue = média de gastos\n",
    "#recency_days = a cada X dias as pessoas estão fazendo compra\n",
    "#invoice_no = compra em média X produtos\n"
   ]
  },
  {
   "cell_type": "markdown",
   "metadata": {},
   "source": [
    "### Cluster 01: (Candidato a Insider)"
   ]
  },
  {
   "cell_type": "markdown",
   "metadata": {},
   "source": [
    "- Número de customers: 6 (0.14% do customers)\n",
    "- Recência em média: 7 dias\n",
    "- Compras em média: 89 compras\n",
    "- Receita em média: $182.182,00 dólares"
   ]
  },
  {
   "cell_type": "markdown",
   "metadata": {},
   "source": [
    "### Cluster 02:"
   ]
  },
  {
   "cell_type": "markdown",
   "metadata": {},
   "source": [
    "- Número de customers: 31 (0.71% do customers)\n",
    "- Recência em média: 14 dias\n",
    "- Compras em média: 53 compras\n",
    "- Receita em média: $40.543,52 dólares"
   ]
  },
  {
   "cell_type": "markdown",
   "metadata": {},
   "source": [
    "### Cluster 03:"
   ]
  },
  {
   "cell_type": "markdown",
   "metadata": {},
   "source": [
    "- Número de customers: 4335 (99,15% do customers)\n",
    "- Recência em média: 92 dias\n",
    "- Compras em média: 5 compras\n",
    "- Receita em média: $1372,5 dólares"
   ]
  }
 ],
 "metadata": {
  "kernelspec": {
   "display_name": "Python 3 (ipykernel)",
   "language": "python",
   "name": "python3"
  },
  "language_info": {
   "codemirror_mode": {
    "name": "ipython",
    "version": 3
   },
   "file_extension": ".py",
   "mimetype": "text/x-python",
   "name": "python",
   "nbconvert_exporter": "python",
   "pygments_lexer": "ipython3",
   "version": "3.8.10"
  },
  "toc": {
   "base_numbering": 1,
   "nav_menu": {},
   "number_sections": true,
   "sideBar": true,
   "skip_h1_title": false,
   "title_cell": "Table of Contents",
   "title_sidebar": "Contents",
   "toc_cell": false,
   "toc_position": {},
   "toc_section_display": true,
   "toc_window_display": false
  }
 },
 "nbformat": 4,
 "nbformat_minor": 4
}
